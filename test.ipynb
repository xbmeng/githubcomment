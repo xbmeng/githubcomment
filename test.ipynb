{
 "cells": [
  {
   "cell_type": "code",
   "execution_count": null,
   "metadata": {},
   "outputs": [],
   "source": [
    "import pandas as pd\n",
    "data = pd.read_csv('githubuser.csv',delimiter=',')\n",
    "data"
   ]
  },
  {
   "cell_type": "code",
   "execution_count": null,
   "metadata": {},
   "outputs": [],
   "source": [
    "import pandas as pd\n",
    "import pymysql\n",
    "\n",
    "conn=pymysql.connect(host='cdb-er8xfzac.cd.tencentcdb.com',database='REVIEW',user='root',\n",
    "password='review123456',port=10174,charset='utf8')\n",
    "sql='select id,user_login,body,path,commit_id,in_reply_to_id,repo_full_name from reviewComment limit 100'\n",
    "r=pd.read_sql(sql,conn)\n",
    "#关闭数据库链接\n",
    "conn.close()\n",
    "print(r.head(5))"
   ]
  },
  {
   "cell_type": "code",
   "execution_count": null,
   "metadata": {},
   "outputs": [],
   "source": [
    "import matplotlib.pyplot as plt\n",
    "import numpy as np\n",
    "a = np.random.rand(100)\n",
    "plt.hist(a,bins= 20) #100个值进行20等分\n",
    "plt.ylim(0,15) #限制y轴高度：0→15"
   ]
  },
  {
   "cell_type": "code",
   "execution_count": null,
   "metadata": {},
   "outputs": [],
   "source": [
    "import gensim\n",
    "from gensim.models import word2vec\n",
    "wordVec = gensim.models.KeyedVectors.load_word2vec_format(\"word2Vec.bin\", binary=True)\n",
    "wordVec['-']"
   ]
  },
  {
   "cell_type": "code",
   "execution_count": null,
   "metadata": {},
   "outputs": [],
   "source": [
    "wordVec.most_similar(['**very**'])"
   ]
  },
  {
   "cell_type": "code",
   "execution_count": 20,
   "metadata": {},
   "outputs": [
    {
     "data": {
      "text/html": [
       "<div>\n",
       "<style scoped>\n",
       "    .dataframe tbody tr th:only-of-type {\n",
       "        vertical-align: middle;\n",
       "    }\n",
       "\n",
       "    .dataframe tbody tr th {\n",
       "        vertical-align: top;\n",
       "    }\n",
       "\n",
       "    .dataframe thead th {\n",
       "        text-align: right;\n",
       "    }\n",
       "</style>\n",
       "<table border=\"1\" class=\"dataframe\">\n",
       "  <thead>\n",
       "    <tr style=\"text-align: right;\">\n",
       "      <th></th>\n",
       "      <th>id</th>\n",
       "      <th>user_login</th>\n",
       "      <th>body</th>\n",
       "      <th>path</th>\n",
       "      <th>commit_id</th>\n",
       "      <th>in_reply_to_id</th>\n",
       "      <th>repo_full_name</th>\n",
       "    </tr>\n",
       "  </thead>\n",
       "  <tbody>\n",
       "    <tr>\n",
       "      <td>0</td>\n",
       "      <td>121</td>\n",
       "      <td>agramfort</td>\n",
       "      <td>spaces after commas thanks :)\\n</td>\n",
       "      <td>scikits/learn/svm/src/liblinear/_liblinear.pyx</td>\n",
       "      <td>e5291691809e5b4d35eb46af77680a85ebbe9976</td>\n",
       "      <td>0</td>\n",
       "      <td>NaN</td>\n",
       "    </tr>\n",
       "    <tr>\n",
       "      <td>1</td>\n",
       "      <td>122</td>\n",
       "      <td>agramfort</td>\n",
       "      <td>are you sure about cfort? is does not appear e...</td>\n",
       "      <td>scikits/learn/svm/src/liblinear/liblinear_help...</td>\n",
       "      <td>e5291691809e5b4d35eb46af77680a85ebbe9976</td>\n",
       "      <td>0</td>\n",
       "      <td>NaN</td>\n",
       "    </tr>\n",
       "    <tr>\n",
       "      <td>2</td>\n",
       "      <td>1161</td>\n",
       "      <td>elupus</td>\n",
       "      <td>Any reason this check is removed? Should we no...</td>\n",
       "      <td>xbmc/dbwrappers/Database.cpp</td>\n",
       "      <td>d153d81a509e00ecbc10d636ebbbd11ae7b562e5</td>\n",
       "      <td>0</td>\n",
       "      <td>NaN</td>\n",
       "    </tr>\n",
       "    <tr>\n",
       "      <td>3</td>\n",
       "      <td>1252</td>\n",
       "      <td>jmarshallnz</td>\n",
       "      <td>Yup - look up  for internal_version (this inli...</td>\n",
       "      <td>xbmc/dbwrappers/Database.cpp</td>\n",
       "      <td>d153d81a509e00ecbc10d636ebbbd11ae7b562e5</td>\n",
       "      <td>0</td>\n",
       "      <td>NaN</td>\n",
       "    </tr>\n",
       "    <tr>\n",
       "      <td>4</td>\n",
       "      <td>1551</td>\n",
       "      <td>agramfort</td>\n",
       "      <td>does or does not?\\n</td>\n",
       "      <td>doc/developers/neighbors.rst</td>\n",
       "      <td>25ef0935eea6de67c1574b61510c6715953733a1</td>\n",
       "      <td>0</td>\n",
       "      <td>NaN</td>\n",
       "    </tr>\n",
       "    <tr>\n",
       "      <td>...</td>\n",
       "      <td>...</td>\n",
       "      <td>...</td>\n",
       "      <td>...</td>\n",
       "      <td>...</td>\n",
       "      <td>...</td>\n",
       "      <td>...</td>\n",
       "      <td>...</td>\n",
       "    </tr>\n",
       "    <tr>\n",
       "      <td>99995</td>\n",
       "      <td>18391536</td>\n",
       "      <td>jamtur01</td>\n",
       "      <td>invoke\\n</td>\n",
       "      <td>docs/sources/reference/builder.md</td>\n",
       "      <td>98ceae1a8499979f725bd04dfbc47ccf831331a7</td>\n",
       "      <td>0</td>\n",
       "      <td>NaN</td>\n",
       "    </tr>\n",
       "    <tr>\n",
       "      <td>99996</td>\n",
       "      <td>18391553</td>\n",
       "      <td>jamtur01</td>\n",
       "      <td>invoke\\n</td>\n",
       "      <td>docs/sources/reference/builder.md</td>\n",
       "      <td>98ceae1a8499979f725bd04dfbc47ccf831331a7</td>\n",
       "      <td>0</td>\n",
       "      <td>NaN</td>\n",
       "    </tr>\n",
       "    <tr>\n",
       "      <td>99997</td>\n",
       "      <td>18391566</td>\n",
       "      <td>jamtur01</td>\n",
       "      <td>invoke\\n</td>\n",
       "      <td>docs/sources/reference/builder.md</td>\n",
       "      <td>98ceae1a8499979f725bd04dfbc47ccf831331a7</td>\n",
       "      <td>0</td>\n",
       "      <td>NaN</td>\n",
       "    </tr>\n",
       "    <tr>\n",
       "      <td>99998</td>\n",
       "      <td>18391634</td>\n",
       "      <td>jamtur01</td>\n",
       "      <td>or `localhost`.\\n</td>\n",
       "      <td>docs/sources/examples/running_ssh_service.md</td>\n",
       "      <td>1cc35466f288384fb5c0c8a75d45a8d56e840d27</td>\n",
       "      <td>0</td>\n",
       "      <td>NaN</td>\n",
       "    </tr>\n",
       "    <tr>\n",
       "      <td>99999</td>\n",
       "      <td>18392271</td>\n",
       "      <td>jrudolph</td>\n",
       "      <td>Why the whitespace difference between no-cache...</td>\n",
       "      <td>akka-http-core/src/main/scala/akka/http/model/...</td>\n",
       "      <td>71a6c05346676e4d62a66525a8a2551539473f2a</td>\n",
       "      <td>0</td>\n",
       "      <td>NaN</td>\n",
       "    </tr>\n",
       "  </tbody>\n",
       "</table>\n",
       "<p>100000 rows × 7 columns</p>\n",
       "</div>"
      ],
      "text/plain": [
       "             id   user_login  \\\n",
       "0           121    agramfort   \n",
       "1           122    agramfort   \n",
       "2          1161       elupus   \n",
       "3          1252  jmarshallnz   \n",
       "4          1551    agramfort   \n",
       "...         ...          ...   \n",
       "99995  18391536     jamtur01   \n",
       "99996  18391553     jamtur01   \n",
       "99997  18391566     jamtur01   \n",
       "99998  18391634     jamtur01   \n",
       "99999  18392271     jrudolph   \n",
       "\n",
       "                                                    body  \\\n",
       "0                        spaces after commas thanks :)\\n   \n",
       "1      are you sure about cfort? is does not appear e...   \n",
       "2      Any reason this check is removed? Should we no...   \n",
       "3      Yup - look up  for internal_version (this inli...   \n",
       "4                                    does or does not?\\n   \n",
       "...                                                  ...   \n",
       "99995                                           invoke\\n   \n",
       "99996                                           invoke\\n   \n",
       "99997                                           invoke\\n   \n",
       "99998                                  or `localhost`.\\n   \n",
       "99999  Why the whitespace difference between no-cache...   \n",
       "\n",
       "                                                    path  \\\n",
       "0         scikits/learn/svm/src/liblinear/_liblinear.pyx   \n",
       "1      scikits/learn/svm/src/liblinear/liblinear_help...   \n",
       "2                           xbmc/dbwrappers/Database.cpp   \n",
       "3                           xbmc/dbwrappers/Database.cpp   \n",
       "4                           doc/developers/neighbors.rst   \n",
       "...                                                  ...   \n",
       "99995                  docs/sources/reference/builder.md   \n",
       "99996                  docs/sources/reference/builder.md   \n",
       "99997                  docs/sources/reference/builder.md   \n",
       "99998       docs/sources/examples/running_ssh_service.md   \n",
       "99999  akka-http-core/src/main/scala/akka/http/model/...   \n",
       "\n",
       "                                      commit_id  in_reply_to_id  \\\n",
       "0      e5291691809e5b4d35eb46af77680a85ebbe9976               0   \n",
       "1      e5291691809e5b4d35eb46af77680a85ebbe9976               0   \n",
       "2      d153d81a509e00ecbc10d636ebbbd11ae7b562e5               0   \n",
       "3      d153d81a509e00ecbc10d636ebbbd11ae7b562e5               0   \n",
       "4      25ef0935eea6de67c1574b61510c6715953733a1               0   \n",
       "...                                         ...             ...   \n",
       "99995  98ceae1a8499979f725bd04dfbc47ccf831331a7               0   \n",
       "99996  98ceae1a8499979f725bd04dfbc47ccf831331a7               0   \n",
       "99997  98ceae1a8499979f725bd04dfbc47ccf831331a7               0   \n",
       "99998  1cc35466f288384fb5c0c8a75d45a8d56e840d27               0   \n",
       "99999  71a6c05346676e4d62a66525a8a2551539473f2a               0   \n",
       "\n",
       "       repo_full_name  \n",
       "0                 NaN  \n",
       "1                 NaN  \n",
       "2                 NaN  \n",
       "3                 NaN  \n",
       "4                 NaN  \n",
       "...               ...  \n",
       "99995             NaN  \n",
       "99996             NaN  \n",
       "99997             NaN  \n",
       "99998             NaN  \n",
       "99999             NaN  \n",
       "\n",
       "[100000 rows x 7 columns]"
      ]
     },
     "execution_count": 20,
     "metadata": {},
     "output_type": "execute_result"
    }
   ],
   "source": [
    "import pandas as pd\n",
    "data = pd.read_csv('reviewComment.csv', delimiter=',')\n",
    "data"
   ]
  },
  {
   "cell_type": "code",
   "execution_count": null,
   "metadata": {},
   "outputs": [],
   "source": [
    "for item in range(len(data)):\n",
    "    pattern_reply = re.compile(r'\\n> (.*)\\n')\n",
    "    temp = \"\"\n",
    "    if len(pattern_reply.findall(data[\"body\"][item])) > 0:\n",
    "        temp = pattern_reply.sub(\"\\n\", data[\"body\"][item])\n",
    "    pattern_reply_time = re.compile(r'On ([\\s\\S]*)wrote:')\n",
    "    if len(pattern_reply_time.findall(temp)) > 0:\n",
    "        temp = pattern_reply_time.sub(\"\", temp)\n",
    "    if temp != \"\":\n",
    "        data[\"body\"][item] = temp"
   ]
  },
  {
   "cell_type": "code",
   "execution_count": 21,
   "metadata": {
    "scrolled": true
   },
   "outputs": [
    {
     "data": {
      "text/plain": [
       "\"Lets support cpp version only (we don't want to care about outdated C style API) - LogisticRegression. the same for the params of LR\\n\""
      ]
     },
     "execution_count": 21,
     "metadata": {},
     "output_type": "execute_result"
    }
   ],
   "source": [
    "data[\"body\"][44419]\n",
    "# print(data[\"body\"][668])"
   ]
  },
  {
   "cell_type": "code",
   "execution_count": null,
   "metadata": {},
   "outputs": [],
   "source": [
    "print(data[\"body\"][101])"
   ]
  },
  {
   "cell_type": "code",
   "execution_count": null,
   "metadata": {},
   "outputs": [],
   "source": [
    "print(data[\"body\"][82846])"
   ]
  },
  {
   "cell_type": "code",
   "execution_count": null,
   "metadata": {},
   "outputs": [],
   "source": [
    "import re\n",
    "temp = data[\"body\"][22056]\n",
    "# print(temp)\n",
    "# pattern_reply = re.compile(r'\\n> (.*)\\n')\n",
    "# res = pattern.findall(temp)\n",
    "# res\n",
    "# res = \"\"\n",
    "# res\n",
    "\n",
    "pattern_reply_time = re.compile(r'@([\\s\\S]*)')\n",
    "# ans = pattern_reply_time.findall(res)\n",
    "# ans\n",
    "if len(pattern_reply_time.findall(temp)) > 0:\n",
    "    temp = pattern_reply_time.sub(\"\", temp)\n",
    "print(temp)"
   ]
  },
  {
   "cell_type": "code",
   "execution_count": null,
   "metadata": {},
   "outputs": [],
   "source": [
    "res"
   ]
  },
  {
   "cell_type": "code",
   "execution_count": null,
   "metadata": {},
   "outputs": [],
   "source": [
    "from bs4 import BeautifulSoup\n",
    "soup = BeautifulSoup(data[\"body\"][18109])\n",
    "str = [s.extract() for s in soup('pre')]\n",
    "# print(str)\n",
    "print(soup.text)"
   ]
  },
  {
   "cell_type": "code",
   "execution_count": null,
   "metadata": {},
   "outputs": [],
   "source": [
    "for i in range(len(data)):\n",
    "    if(data[\"body\"][i].find('>') >= 0):\n",
    "        print(i,\" : \",data[\"body\"][i])"
   ]
  },
  {
   "cell_type": "code",
   "execution_count": 16,
   "metadata": {},
   "outputs": [
    {
     "name": "stderr",
     "output_type": "stream",
     "text": [
      "[nltk_data] Downloading package punkt to\n",
      "[nltk_data]     C:\\Users\\10065\\AppData\\Roaming\\nltk_data...\n",
      "[nltk_data]   Unzipping tokenizers\\punkt.zip.\n"
     ]
    },
    {
     "data": {
      "text/plain": [
       "True"
      ]
     },
     "execution_count": 16,
     "metadata": {},
     "output_type": "execute_result"
    }
   ],
   "source": [
    "import nltk\n",
    "nltk.download('punkt')"
   ]
  },
  {
   "cell_type": "code",
   "execution_count": 22,
   "metadata": {},
   "outputs": [],
   "source": [
    "# 去除停用词\n",
    "from nltk.corpus import stopwords\n",
    "from nltk.tokenize import sent_tokenize,word_tokenize\n",
    "#英文停止词，set()集合函数消除重复项\n",
    "list_stopWords=list(set(stopwords.words('english')))\n",
    "example_text=data[\"body\"][44419]\n",
    "#分句\n",
    "list_sentences=sent_tokenize(example_text)\n",
    "#分词\n",
    "list_words=word_tokenize(example_text)\n",
    "#过滤停止词\n",
    "filtered_words=[w for w in list_words if not w in list_stopWords]"
   ]
  },
  {
   "cell_type": "code",
   "execution_count": 23,
   "metadata": {},
   "outputs": [
    {
     "data": {
      "text/plain": [
       "['Lets',\n",
       " 'support',\n",
       " 'cpp',\n",
       " 'version',\n",
       " '(',\n",
       " \"n't\",\n",
       " 'want',\n",
       " 'care',\n",
       " 'outdated',\n",
       " 'C',\n",
       " 'style',\n",
       " 'API',\n",
       " ')',\n",
       " '-',\n",
       " 'LogisticRegression',\n",
       " '.',\n",
       " 'params',\n",
       " 'LR']"
      ]
     },
     "execution_count": 23,
     "metadata": {},
     "output_type": "execute_result"
    }
   ],
   "source": [
    "filtered_words"
   ]
  },
  {
   "cell_type": "code",
   "execution_count": null,
   "metadata": {},
   "outputs": [],
   "source": []
  }
 ],
 "metadata": {
  "kernelspec": {
   "display_name": "Python 3",
   "language": "python",
   "name": "python3"
  },
  "language_info": {
   "codemirror_mode": {
    "name": "ipython",
    "version": 3
   },
   "file_extension": ".py",
   "mimetype": "text/x-python",
   "name": "python",
   "nbconvert_exporter": "python",
   "pygments_lexer": "ipython3",
   "version": "3.6.12"
  }
 },
 "nbformat": 4,
 "nbformat_minor": 4
}
