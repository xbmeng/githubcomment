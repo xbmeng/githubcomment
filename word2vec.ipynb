{
 "cells": [
  {
   "cell_type": "code",
   "execution_count": 33,
   "metadata": {},
   "outputs": [],
   "source": [
    "import pandas as pd\n",
    "from bs4 import BeautifulSoup\n",
    "import re\n",
    "import logging\n",
    "from gensim.models import word2vec\n",
    "import gensim\n",
    "import numpy as np"
   ]
  },
  {
   "cell_type": "code",
   "execution_count": 2,
   "metadata": {},
   "outputs": [
    {
     "data": {
      "text/html": [
       "<div>\n",
       "<style scoped>\n",
       "    .dataframe tbody tr th:only-of-type {\n",
       "        vertical-align: middle;\n",
       "    }\n",
       "\n",
       "    .dataframe tbody tr th {\n",
       "        vertical-align: top;\n",
       "    }\n",
       "\n",
       "    .dataframe thead th {\n",
       "        text-align: right;\n",
       "    }\n",
       "</style>\n",
       "<table border=\"1\" class=\"dataframe\">\n",
       "  <thead>\n",
       "    <tr style=\"text-align: right;\">\n",
       "      <th></th>\n",
       "      <th>id</th>\n",
       "      <th>user_login</th>\n",
       "      <th>body</th>\n",
       "      <th>path</th>\n",
       "      <th>commit_id</th>\n",
       "      <th>in_reply_to_id</th>\n",
       "      <th>repo_full_name</th>\n",
       "    </tr>\n",
       "  </thead>\n",
       "  <tbody>\n",
       "    <tr>\n",
       "      <td>0</td>\n",
       "      <td>121</td>\n",
       "      <td>agramfort</td>\n",
       "      <td>spaces after commas thanks :)\\n</td>\n",
       "      <td>scikits/learn/svm/src/liblinear/_liblinear.pyx</td>\n",
       "      <td>e5291691809e5b4d35eb46af77680a85ebbe9976</td>\n",
       "      <td>0</td>\n",
       "      <td>NaN</td>\n",
       "    </tr>\n",
       "    <tr>\n",
       "      <td>1</td>\n",
       "      <td>122</td>\n",
       "      <td>agramfort</td>\n",
       "      <td>are you sure about cfort? is does not appear e...</td>\n",
       "      <td>scikits/learn/svm/src/liblinear/liblinear_help...</td>\n",
       "      <td>e5291691809e5b4d35eb46af77680a85ebbe9976</td>\n",
       "      <td>0</td>\n",
       "      <td>NaN</td>\n",
       "    </tr>\n",
       "    <tr>\n",
       "      <td>2</td>\n",
       "      <td>1161</td>\n",
       "      <td>elupus</td>\n",
       "      <td>Any reason this check is removed? Should we no...</td>\n",
       "      <td>xbmc/dbwrappers/Database.cpp</td>\n",
       "      <td>d153d81a509e00ecbc10d636ebbbd11ae7b562e5</td>\n",
       "      <td>0</td>\n",
       "      <td>NaN</td>\n",
       "    </tr>\n",
       "    <tr>\n",
       "      <td>3</td>\n",
       "      <td>1252</td>\n",
       "      <td>jmarshallnz</td>\n",
       "      <td>Yup - look up  for internal_version (this inli...</td>\n",
       "      <td>xbmc/dbwrappers/Database.cpp</td>\n",
       "      <td>d153d81a509e00ecbc10d636ebbbd11ae7b562e5</td>\n",
       "      <td>0</td>\n",
       "      <td>NaN</td>\n",
       "    </tr>\n",
       "    <tr>\n",
       "      <td>4</td>\n",
       "      <td>1551</td>\n",
       "      <td>agramfort</td>\n",
       "      <td>does or does not?\\n</td>\n",
       "      <td>doc/developers/neighbors.rst</td>\n",
       "      <td>25ef0935eea6de67c1574b61510c6715953733a1</td>\n",
       "      <td>0</td>\n",
       "      <td>NaN</td>\n",
       "    </tr>\n",
       "    <tr>\n",
       "      <td>...</td>\n",
       "      <td>...</td>\n",
       "      <td>...</td>\n",
       "      <td>...</td>\n",
       "      <td>...</td>\n",
       "      <td>...</td>\n",
       "      <td>...</td>\n",
       "      <td>...</td>\n",
       "    </tr>\n",
       "    <tr>\n",
       "      <td>99995</td>\n",
       "      <td>18391536</td>\n",
       "      <td>jamtur01</td>\n",
       "      <td>invoke\\n</td>\n",
       "      <td>docs/sources/reference/builder.md</td>\n",
       "      <td>98ceae1a8499979f725bd04dfbc47ccf831331a7</td>\n",
       "      <td>0</td>\n",
       "      <td>NaN</td>\n",
       "    </tr>\n",
       "    <tr>\n",
       "      <td>99996</td>\n",
       "      <td>18391553</td>\n",
       "      <td>jamtur01</td>\n",
       "      <td>invoke\\n</td>\n",
       "      <td>docs/sources/reference/builder.md</td>\n",
       "      <td>98ceae1a8499979f725bd04dfbc47ccf831331a7</td>\n",
       "      <td>0</td>\n",
       "      <td>NaN</td>\n",
       "    </tr>\n",
       "    <tr>\n",
       "      <td>99997</td>\n",
       "      <td>18391566</td>\n",
       "      <td>jamtur01</td>\n",
       "      <td>invoke\\n</td>\n",
       "      <td>docs/sources/reference/builder.md</td>\n",
       "      <td>98ceae1a8499979f725bd04dfbc47ccf831331a7</td>\n",
       "      <td>0</td>\n",
       "      <td>NaN</td>\n",
       "    </tr>\n",
       "    <tr>\n",
       "      <td>99998</td>\n",
       "      <td>18391634</td>\n",
       "      <td>jamtur01</td>\n",
       "      <td>or `localhost`.\\n</td>\n",
       "      <td>docs/sources/examples/running_ssh_service.md</td>\n",
       "      <td>1cc35466f288384fb5c0c8a75d45a8d56e840d27</td>\n",
       "      <td>0</td>\n",
       "      <td>NaN</td>\n",
       "    </tr>\n",
       "    <tr>\n",
       "      <td>99999</td>\n",
       "      <td>18392271</td>\n",
       "      <td>jrudolph</td>\n",
       "      <td>Why the whitespace difference between no-cache...</td>\n",
       "      <td>akka-http-core/src/main/scala/akka/http/model/...</td>\n",
       "      <td>71a6c05346676e4d62a66525a8a2551539473f2a</td>\n",
       "      <td>0</td>\n",
       "      <td>NaN</td>\n",
       "    </tr>\n",
       "  </tbody>\n",
       "</table>\n",
       "<p>100000 rows × 7 columns</p>\n",
       "</div>"
      ],
      "text/plain": [
       "             id   user_login  \\\n",
       "0           121    agramfort   \n",
       "1           122    agramfort   \n",
       "2          1161       elupus   \n",
       "3          1252  jmarshallnz   \n",
       "4          1551    agramfort   \n",
       "...         ...          ...   \n",
       "99995  18391536     jamtur01   \n",
       "99996  18391553     jamtur01   \n",
       "99997  18391566     jamtur01   \n",
       "99998  18391634     jamtur01   \n",
       "99999  18392271     jrudolph   \n",
       "\n",
       "                                                    body  \\\n",
       "0                        spaces after commas thanks :)\\n   \n",
       "1      are you sure about cfort? is does not appear e...   \n",
       "2      Any reason this check is removed? Should we no...   \n",
       "3      Yup - look up  for internal_version (this inli...   \n",
       "4                                    does or does not?\\n   \n",
       "...                                                  ...   \n",
       "99995                                           invoke\\n   \n",
       "99996                                           invoke\\n   \n",
       "99997                                           invoke\\n   \n",
       "99998                                  or `localhost`.\\n   \n",
       "99999  Why the whitespace difference between no-cache...   \n",
       "\n",
       "                                                    path  \\\n",
       "0         scikits/learn/svm/src/liblinear/_liblinear.pyx   \n",
       "1      scikits/learn/svm/src/liblinear/liblinear_help...   \n",
       "2                           xbmc/dbwrappers/Database.cpp   \n",
       "3                           xbmc/dbwrappers/Database.cpp   \n",
       "4                           doc/developers/neighbors.rst   \n",
       "...                                                  ...   \n",
       "99995                  docs/sources/reference/builder.md   \n",
       "99996                  docs/sources/reference/builder.md   \n",
       "99997                  docs/sources/reference/builder.md   \n",
       "99998       docs/sources/examples/running_ssh_service.md   \n",
       "99999  akka-http-core/src/main/scala/akka/http/model/...   \n",
       "\n",
       "                                      commit_id  in_reply_to_id  \\\n",
       "0      e5291691809e5b4d35eb46af77680a85ebbe9976               0   \n",
       "1      e5291691809e5b4d35eb46af77680a85ebbe9976               0   \n",
       "2      d153d81a509e00ecbc10d636ebbbd11ae7b562e5               0   \n",
       "3      d153d81a509e00ecbc10d636ebbbd11ae7b562e5               0   \n",
       "4      25ef0935eea6de67c1574b61510c6715953733a1               0   \n",
       "...                                         ...             ...   \n",
       "99995  98ceae1a8499979f725bd04dfbc47ccf831331a7               0   \n",
       "99996  98ceae1a8499979f725bd04dfbc47ccf831331a7               0   \n",
       "99997  98ceae1a8499979f725bd04dfbc47ccf831331a7               0   \n",
       "99998  1cc35466f288384fb5c0c8a75d45a8d56e840d27               0   \n",
       "99999  71a6c05346676e4d62a66525a8a2551539473f2a               0   \n",
       "\n",
       "       repo_full_name  \n",
       "0                 NaN  \n",
       "1                 NaN  \n",
       "2                 NaN  \n",
       "3                 NaN  \n",
       "4                 NaN  \n",
       "...               ...  \n",
       "99995             NaN  \n",
       "99996             NaN  \n",
       "99997             NaN  \n",
       "99998             NaN  \n",
       "99999             NaN  \n",
       "\n",
       "[100000 rows x 7 columns]"
      ]
     },
     "execution_count": 2,
     "metadata": {},
     "output_type": "execute_result"
    }
   ],
   "source": [
    "data = pd.read_csv('reviewComment.csv', delimiter=',')\n",
    "data"
   ]
  },
  {
   "cell_type": "code",
   "execution_count": 3,
   "metadata": {},
   "outputs": [],
   "source": [
    "# 去除HTML标签\n",
    "def cleanHtml(subject):\n",
    "    soup = BeautifulSoup(subject)\n",
    "    str = [s.extract() for s in soup('pre')]\n",
    "    \n",
    "    return soup.text"
   ]
  },
  {
   "cell_type": "code",
   "execution_count": 4,
   "metadata": {},
   "outputs": [
    {
     "name": "stderr",
     "output_type": "stream",
     "text": [
      "c:\\users\\10065\\anaconda3\\envs\\py3\\lib\\site-packages\\bs4\\__init__.py:424: MarkupResemblesLocatorWarning: \"http://en.wikipedia.org/wiki/Boolean\n",
      "\" looks like a URL. Beautiful Soup is not an HTTP client. You should probably use an HTTP client like requests to get the document behind the URL, and feed that document to Beautiful Soup.\n",
      "  MarkupResemblesLocatorWarning\n",
      "c:\\users\\10065\\anaconda3\\envs\\py3\\lib\\site-packages\\bs4\\__init__.py:424: MarkupResemblesLocatorWarning: \"http://checkstyle.sourceforge.net/config_modifier.html\n",
      "\" looks like a URL. Beautiful Soup is not an HTTP client. You should probably use an HTTP client like requests to get the document behind the URL, and feed that document to Beautiful Soup.\n",
      "  MarkupResemblesLocatorWarning\n",
      "c:\\users\\10065\\anaconda3\\envs\\py3\\lib\\site-packages\\bs4\\__init__.py:424: MarkupResemblesLocatorWarning: \"https://www.assembla.com/spaces/akka/tickets/1360-actorpath--add-rootpath-accessor-and-remove-string%28%29\n",
      "\" looks like a URL. Beautiful Soup is not an HTTP client. You should probably use an HTTP client like requests to get the document behind the URL, and feed that document to Beautiful Soup.\n",
      "  MarkupResemblesLocatorWarning\n",
      "c:\\users\\10065\\anaconda3\\envs\\py3\\lib\\site-packages\\bs4\\__init__.py:424: MarkupResemblesLocatorWarning: \"http://twig.sensiolabs.org/doc/functions/constant.html\n",
      "\" looks like a URL. Beautiful Soup is not an HTTP client. You should probably use an HTTP client like requests to get the document behind the URL, and feed that document to Beautiful Soup.\n",
      "  MarkupResemblesLocatorWarning\n",
      "c:\\users\\10065\\anaconda3\\envs\\py3\\lib\\site-packages\\bs4\\__init__.py:424: MarkupResemblesLocatorWarning: \"https://github.com/jboner/akka/blob/master/akka-actor/src/main/scala/akka/dispatch/AbstractDispatcher.scala#L171\n",
      "\" looks like a URL. Beautiful Soup is not an HTTP client. You should probably use an HTTP client like requests to get the document behind the URL, and feed that document to Beautiful Soup.\n",
      "  MarkupResemblesLocatorWarning\n",
      "c:\\users\\10065\\anaconda3\\envs\\py3\\lib\\site-packages\\bs4\\__init__.py:424: MarkupResemblesLocatorWarning: \"https://github.com/netty/netty/blob/master/src/main/java/org/jboss/netty/channel/socket/nio/AbstractWriteRequestQueue.java\n",
      "\" looks like a URL. Beautiful Soup is not an HTTP client. You should probably use an HTTP client like requests to get the document behind the URL, and feed that document to Beautiful Soup.\n",
      "  MarkupResemblesLocatorWarning\n",
      "c:\\users\\10065\\anaconda3\\envs\\py3\\lib\\site-packages\\bs4\\__init__.py:424: MarkupResemblesLocatorWarning: \"https://www.assembla.com/spaces/akka/tickets/1446\n",
      "\" looks like a URL. Beautiful Soup is not an HTTP client. You should probably use an HTTP client like requests to get the document behind the URL, and feed that document to Beautiful Soup.\n",
      "  MarkupResemblesLocatorWarning\n",
      "c:\\users\\10065\\anaconda3\\envs\\py3\\lib\\site-packages\\bs4\\__init__.py:424: MarkupResemblesLocatorWarning: \"https://www.assembla.com/spaces/akka/tickets/1511\n",
      "\" looks like a URL. Beautiful Soup is not an HTTP client. You should probably use an HTTP client like requests to get the document behind the URL, and feed that document to Beautiful Soup.\n",
      "  MarkupResemblesLocatorWarning\n",
      "c:\\users\\10065\\anaconda3\\envs\\py3\\lib\\site-packages\\bs4\\__init__.py:424: MarkupResemblesLocatorWarning: \"https://github.com/scipy/scipy/pull/118\n",
      "\" looks like a URL. Beautiful Soup is not an HTTP client. You should probably use an HTTP client like requests to get the document behind the URL, and feed that document to Beautiful Soup.\n",
      "  MarkupResemblesLocatorWarning\n",
      "c:\\users\\10065\\anaconda3\\envs\\py3\\lib\\site-packages\\bs4\\__init__.py:424: MarkupResemblesLocatorWarning: \"http://git.libav.org/?p=libav.git;a=blob;f=libavfilter/vsrc_buffer.h;h=13a209c768612ea41df3bf966ae1e2c180a26c3b;hb=HEAD\n",
      "\n",
      "http://git.videolan.org/?p=ffmpeg.git;a=blob;f=libavfilter/vsrc_buffer.h;h=b661d414eaa2d4656d91f58129d645d2492d8b28;hb=HEAD\n",
      "\" looks like a URL. Beautiful Soup is not an HTTP client. You should probably use an HTTP client like requests to get the document behind the URL, and feed that document to Beautiful Soup.\n",
      "  MarkupResemblesLocatorWarning\n",
      "c:\\users\\10065\\anaconda3\\envs\\py3\\lib\\site-packages\\bs4\\__init__.py:424: MarkupResemblesLocatorWarning: \"http://www.assembla.com/spaces/akka/tickets/1784-base-akkaexception-on-system-info-rather-than-only-hostname\n",
      "\" looks like a URL. Beautiful Soup is not an HTTP client. You should probably use an HTTP client like requests to get the document behind the URL, and feed that document to Beautiful Soup.\n",
      "  MarkupResemblesLocatorWarning\n",
      "c:\\users\\10065\\anaconda3\\envs\\py3\\lib\\site-packages\\bs4\\__init__.py:424: MarkupResemblesLocatorWarning: \"https://github.com/jboner/akka/pull/332\n",
      "\" looks like a URL. Beautiful Soup is not an HTTP client. You should probably use an HTTP client like requests to get the document behind the URL, and feed that document to Beautiful Soup.\n",
      "  MarkupResemblesLocatorWarning\n",
      "c:\\users\\10065\\anaconda3\\envs\\py3\\lib\\site-packages\\bs4\\__init__.py:424: MarkupResemblesLocatorWarning: \"https://github.com/doctrine/doctrine2/blob/master/lib/Doctrine/ORM/ORMInvalidArgumentException.php\n",
      "\" looks like a URL. Beautiful Soup is not an HTTP client. You should probably use an HTTP client like requests to get the document behind the URL, and feed that document to Beautiful Soup.\n",
      "  MarkupResemblesLocatorWarning\n",
      "c:\\users\\10065\\anaconda3\\envs\\py3\\lib\\site-packages\\bs4\\__init__.py:424: MarkupResemblesLocatorWarning: \"http://www.aftonbladet.se/nojesbladet/klick/article14451923.ab\n",
      "\" looks like a URL. Beautiful Soup is not an HTTP client. You should probably use an HTTP client like requests to get the document behind the URL, and feed that document to Beautiful Soup.\n",
      "  MarkupResemblesLocatorWarning\n",
      "c:\\users\\10065\\anaconda3\\envs\\py3\\lib\\site-packages\\bs4\\__init__.py:424: MarkupResemblesLocatorWarning: \"http://www.assembla.com/spaces/akka/tickets/1879-rewrite-the-long-running-tests-so-that-they-only-take-as-long-as-they-need---use--awaitcond--inst---\n",
      "\" looks like a URL. Beautiful Soup is not an HTTP client. You should probably use an HTTP client like requests to get the document behind the URL, and feed that document to Beautiful Soup.\n",
      "  MarkupResemblesLocatorWarning\n",
      "c:\\users\\10065\\anaconda3\\envs\\py3\\lib\\site-packages\\bs4\\__init__.py:424: MarkupResemblesLocatorWarning: \"https://lampsvn.epfl.ch/trac/scala/browser/scala/tags/R_2_9_1_final/src//library/scala/Symbol.scala#L1\n",
      "\" looks like a URL. Beautiful Soup is not an HTTP client. You should probably use an HTTP client like requests to get the document behind the URL, and feed that document to Beautiful Soup.\n",
      "  MarkupResemblesLocatorWarning\n",
      "c:\\users\\10065\\anaconda3\\envs\\py3\\lib\\site-packages\\bs4\\__init__.py:424: MarkupResemblesLocatorWarning: \"https://github.com/scikit-learn/scikit-learn/pull/729\n",
      "\" looks like a URL. Beautiful Soup is not an HTTP client. You should probably use an HTTP client like requests to get the document behind the URL, and feed that document to Beautiful Soup.\n",
      "  MarkupResemblesLocatorWarning\n",
      "c:\\users\\10065\\anaconda3\\envs\\py3\\lib\\site-packages\\bs4\\__init__.py:424: MarkupResemblesLocatorWarning: \"http://symfony.com/doc/current/contributing/code/standards.html\n",
      "\" looks like a URL. Beautiful Soup is not an HTTP client. You should probably use an HTTP client like requests to get the document behind the URL, and feed that document to Beautiful Soup.\n",
      "  MarkupResemblesLocatorWarning\n",
      "c:\\users\\10065\\anaconda3\\envs\\py3\\lib\\site-packages\\bs4\\__init__.py:424: MarkupResemblesLocatorWarning: \"http://help.github.com/line-endings/\n",
      "\" looks like a URL. Beautiful Soup is not an HTTP client. You should probably use an HTTP client like requests to get the document behind the URL, and feed that document to Beautiful Soup.\n",
      "  MarkupResemblesLocatorWarning\n",
      "c:\\users\\10065\\anaconda3\\envs\\py3\\lib\\site-packages\\bs4\\__init__.py:424: MarkupResemblesLocatorWarning: \"https://github.com/akka/akka/pull/407\n",
      "\" looks like a URL. Beautiful Soup is not an HTTP client. You should probably use an HTTP client like requests to get the document behind the URL, and feed that document to Beautiful Soup.\n",
      "  MarkupResemblesLocatorWarning\n",
      "c:\\users\\10065\\anaconda3\\envs\\py3\\lib\\site-packages\\bs4\\__init__.py:424: MarkupResemblesLocatorWarning: \"https://github.com/caelaislinn/Baystation12/commit/6c98b2048c815b35bd130394bdd4f1e4d752bdf8#diff-9\n",
      "\" looks like a URL. Beautiful Soup is not an HTTP client. You should probably use an HTTP client like requests to get the document behind the URL, and feed that document to Beautiful Soup.\n",
      "  MarkupResemblesLocatorWarning\n"
     ]
    },
    {
     "name": "stderr",
     "output_type": "stream",
     "text": [
      "c:\\users\\10065\\anaconda3\\envs\\py3\\lib\\site-packages\\bs4\\__init__.py:424: MarkupResemblesLocatorWarning: \"http://cl.ly/1P37021y1w1V0y0o0v2m\n",
      "\" looks like a URL. Beautiful Soup is not an HTTP client. You should probably use an HTTP client like requests to get the document behind the URL, and feed that document to Beautiful Soup.\n",
      "  MarkupResemblesLocatorWarning\n",
      "c:\\users\\10065\\anaconda3\\envs\\py3\\lib\\site-packages\\bs4\\__init__.py:424: MarkupResemblesLocatorWarning: \"http://www.assembla.com/spaces/akka/tickets/2228-handle-props-apply%5Bnothing%5D-as-props-empty\n",
      "\" looks like a URL. Beautiful Soup is not an HTTP client. You should probably use an HTTP client like requests to get the document behind the URL, and feed that document to Beautiful Soup.\n",
      "  MarkupResemblesLocatorWarning\n",
      "c:\\users\\10065\\anaconda3\\envs\\py3\\lib\\site-packages\\bs4\\__init__.py:424: MarkupResemblesLocatorWarning: \"http://blogs.technet.com/b/grouppolicy/archive/2009/04/22/passwords-in-group-policy-preferences-updated.aspx\n",
      "\" looks like a URL. Beautiful Soup is not an HTTP client. You should probably use an HTTP client like requests to get the document behind the URL, and feed that document to Beautiful Soup.\n",
      "  MarkupResemblesLocatorWarning\n",
      "c:\\users\\10065\\anaconda3\\envs\\py3\\lib\\site-packages\\bs4\\__init__.py:424: MarkupResemblesLocatorWarning: \"https://github.com/scala/scala/blob/master/test/files/jvm/serialization.scala\n",
      "\" looks like a URL. Beautiful Soup is not an HTTP client. You should probably use an HTTP client like requests to get the document behind the URL, and feed that document to Beautiful Soup.\n",
      "  MarkupResemblesLocatorWarning\n",
      "c:\\users\\10065\\anaconda3\\envs\\py3\\lib\\site-packages\\bs4\\__init__.py:424: MarkupResemblesLocatorWarning: \"https://github.com/scala/scala/blob/master/src/reflect/scala/reflect/internal/util/Collections.scala#L46\n",
      "\" looks like a URL. Beautiful Soup is not an HTTP client. You should probably use an HTTP client like requests to get the document behind the URL, and feed that document to Beautiful Soup.\n",
      "  MarkupResemblesLocatorWarning\n",
      "c:\\users\\10065\\anaconda3\\envs\\py3\\lib\\site-packages\\bs4\\__init__.py:424: MarkupResemblesLocatorWarning: \"https://issues.scala-lang.org/browse/SI-6374\n",
      "\" looks like a URL. Beautiful Soup is not an HTTP client. You should probably use an HTTP client like requests to get the document behind the URL, and feed that document to Beautiful Soup.\n",
      "  MarkupResemblesLocatorWarning\n",
      "c:\\users\\10065\\anaconda3\\envs\\py3\\lib\\site-packages\\bs4\\__init__.py:424: MarkupResemblesLocatorWarning: \"https://groups.google.com/forum/?fromgroups=#!topic/scala-internals/qwa_XOw_7Ks\n",
      "\" looks like a URL. Beautiful Soup is not an HTTP client. You should probably use an HTTP client like requests to get the document behind the URL, and feed that document to Beautiful Soup.\n",
      "  MarkupResemblesLocatorWarning\n",
      "c:\\users\\10065\\anaconda3\\envs\\py3\\lib\\site-packages\\bs4\\__init__.py:424: MarkupResemblesLocatorWarning: \"http://groups.google.com/group/scala-internals/browse_thread/thread/e3507f461d0fac11\n",
      "\" looks like a URL. Beautiful Soup is not an HTTP client. You should probably use an HTTP client like requests to get the document behind the URL, and feed that document to Beautiful Soup.\n",
      "  MarkupResemblesLocatorWarning\n",
      "c:\\users\\10065\\anaconda3\\envs\\py3\\lib\\site-packages\\bs4\\__init__.py:424: MarkupResemblesLocatorWarning: \"https://github.com/JamesIry/scala/commit/7e672c3785a16764a1e897739517a0909a600cde\n",
      "\" looks like a URL. Beautiful Soup is not an HTTP client. You should probably use an HTTP client like requests to get the document behind the URL, and feed that document to Beautiful Soup.\n",
      "  MarkupResemblesLocatorWarning\n",
      "c:\\users\\10065\\anaconda3\\envs\\py3\\lib\\site-packages\\bs4\\__init__.py:424: MarkupResemblesLocatorWarning: \"http://www.youtube.com/watch?v=N6voHeEa3ig\n",
      "\" looks like a URL. Beautiful Soup is not an HTTP client. You should probably use an HTTP client like requests to get the document behind the URL, and feed that document to Beautiful Soup.\n",
      "  MarkupResemblesLocatorWarning\n",
      "c:\\users\\10065\\anaconda3\\envs\\py3\\lib\\site-packages\\bs4\\__init__.py:424: MarkupResemblesLocatorWarning: \"https://issues.scala-lang.org/browse/SI-6890\n",
      "\" looks like a URL. Beautiful Soup is not an HTTP client. You should probably use an HTTP client like requests to get the document behind the URL, and feed that document to Beautiful Soup.\n",
      "  MarkupResemblesLocatorWarning\n",
      "c:\\users\\10065\\anaconda3\\envs\\py3\\lib\\site-packages\\bs4\\__init__.py:424: MarkupResemblesLocatorWarning: \"https://issues.scala-lang.org/browse/SI-6929\n",
      "\" looks like a URL. Beautiful Soup is not an HTTP client. You should probably use an HTTP client like requests to get the document behind the URL, and feed that document to Beautiful Soup.\n",
      "  MarkupResemblesLocatorWarning\n",
      "c:\\users\\10065\\anaconda3\\envs\\py3\\lib\\site-packages\\bs4\\__init__.py:424: MarkupResemblesLocatorWarning: \"http://www.youtube.com/watch?v=j0LD2GnxmKU\n",
      "\" looks like a URL. Beautiful Soup is not an HTTP client. You should probably use an HTTP client like requests to get the document behind the URL, and feed that document to Beautiful Soup.\n",
      "  MarkupResemblesLocatorWarning\n",
      "c:\\users\\10065\\anaconda3\\envs\\py3\\lib\\site-packages\\bs4\\__init__.py:424: MarkupResemblesLocatorWarning: \"https://github.com/symfony/symfony/blob/master/src/Symfony/Component/Security/Acl/Dbal/Schema.php\n",
      "\" looks like a URL. Beautiful Soup is not an HTTP client. You should probably use an HTTP client like requests to get the document behind the URL, and feed that document to Beautiful Soup.\n",
      "  MarkupResemblesLocatorWarning\n",
      "c:\\users\\10065\\anaconda3\\envs\\py3\\lib\\site-packages\\bs4\\__init__.py:424: MarkupResemblesLocatorWarning: \"https://github.com/symfony/symfony/commit/e8094589f0f718d06d96fd56df7e0e6eaf08b485\n",
      "\" looks like a URL. Beautiful Soup is not an HTTP client. You should probably use an HTTP client like requests to get the document behind the URL, and feed that document to Beautiful Soup.\n",
      "  MarkupResemblesLocatorWarning\n",
      "c:\\users\\10065\\anaconda3\\envs\\py3\\lib\\site-packages\\bs4\\__init__.py:424: MarkupResemblesLocatorWarning: \"https://www.assembla.com/spaces/ddEDvgVAKr3QrUeJe5aVNr/tickets/2925\n",
      "\" looks like a URL. Beautiful Soup is not an HTTP client. You should probably use an HTTP client like requests to get the document behind the URL, and feed that document to Beautiful Soup.\n",
      "  MarkupResemblesLocatorWarning\n",
      "c:\\users\\10065\\anaconda3\\envs\\py3\\lib\\site-packages\\bs4\\__init__.py:424: MarkupResemblesLocatorWarning: \"https://www.assembla.com/spaces/akka/simple_planner#/ticket:3009\n",
      "\" looks like a URL. Beautiful Soup is not an HTTP client. You should probably use an HTTP client like requests to get the document behind the URL, and feed that document to Beautiful Soup.\n",
      "  MarkupResemblesLocatorWarning\n",
      "c:\\users\\10065\\anaconda3\\envs\\py3\\lib\\site-packages\\bs4\\__init__.py:424: MarkupResemblesLocatorWarning: \"http://picardfacepalm.com/picard-facepalm.jpg\n",
      "\" looks like a URL. Beautiful Soup is not an HTTP client. You should probably use an HTTP client like requests to get the document behind the URL, and feed that document to Beautiful Soup.\n",
      "  MarkupResemblesLocatorWarning\n",
      "c:\\users\\10065\\anaconda3\\envs\\py3\\lib\\site-packages\\bs4\\__init__.py:424: MarkupResemblesLocatorWarning: \"http://api.rubyonrails.org/classes/String.html#method-i-strip_heredoc\n",
      "\" looks like a URL. Beautiful Soup is not an HTTP client. You should probably use an HTTP client like requests to get the document behind the URL, and feed that document to Beautiful Soup.\n",
      "  MarkupResemblesLocatorWarning\n",
      "c:\\users\\10065\\anaconda3\\envs\\py3\\lib\\site-packages\\bs4\\__init__.py:424: MarkupResemblesLocatorWarning: \"http://guides.rubyonrails.org/contributing_to_ruby_on_rails.html#follow-the-coding-conventions\n",
      "\" looks like a URL. Beautiful Soup is not an HTTP client. You should probably use an HTTP client like requests to get the document behind the URL, and feed that document to Beautiful Soup.\n",
      "  MarkupResemblesLocatorWarning\n",
      "c:\\users\\10065\\anaconda3\\envs\\py3\\lib\\site-packages\\bs4\\__init__.py:424: MarkupResemblesLocatorWarning: \"https://github.com/xbmc/xbmc/pull/2681/files#L40R657\n",
      "\" looks like a URL. Beautiful Soup is not an HTTP client. You should probably use an HTTP client like requests to get the document behind the URL, and feed that document to Beautiful Soup.\n",
      "  MarkupResemblesLocatorWarning\n",
      "c:\\users\\10065\\anaconda3\\envs\\py3\\lib\\site-packages\\bs4\\__init__.py:424: MarkupResemblesLocatorWarning: \"http://www.opengl.org/sdk/docs/man/xhtml/glVertexAttribPointer.xml\n",
      "\" looks like a URL. Beautiful Soup is not an HTTP client. You should probably use an HTTP client like requests to get the document behind the URL, and feed that document to Beautiful Soup.\n",
      "  MarkupResemblesLocatorWarning\n",
      "c:\\users\\10065\\anaconda3\\envs\\py3\\lib\\site-packages\\bs4\\__init__.py:424: MarkupResemblesLocatorWarning: \"https://github.com/sebastianbergmann/phpunit/blob/master/PHPUnit/Framework/Constraint/Count.php#L91\n",
      "\" looks like a URL. Beautiful Soup is not an HTTP client. You should probably use an HTTP client like requests to get the document behind the URL, and feed that document to Beautiful Soup.\n",
      "  MarkupResemblesLocatorWarning\n"
     ]
    },
    {
     "name": "stderr",
     "output_type": "stream",
     "text": [
      "c:\\users\\10065\\anaconda3\\envs\\py3\\lib\\site-packages\\bs4\\__init__.py:424: MarkupResemblesLocatorWarning: \"http://baystation12.net/forums/viewtopic.php?f=33&t=7850\n",
      "\" looks like a URL. Beautiful Soup is not an HTTP client. You should probably use an HTTP client like requests to get the document behind the URL, and feed that document to Beautiful Soup.\n",
      "  MarkupResemblesLocatorWarning\n",
      "c:\\users\\10065\\anaconda3\\envs\\py3\\lib\\site-packages\\bs4\\__init__.py:424: MarkupResemblesLocatorWarning: \"http://dev.metasploit.com/redmine/issues/8083\n",
      "\" looks like a URL. Beautiful Soup is not an HTTP client. You should probably use an HTTP client like requests to get the document behind the URL, and feed that document to Beautiful Soup.\n",
      "  MarkupResemblesLocatorWarning\n",
      "c:\\users\\10065\\anaconda3\\envs\\py3\\lib\\site-packages\\bs4\\__init__.py:424: MarkupResemblesLocatorWarning: \"http://en.wikipedia.org/wiki/Spurious_wakeup\n",
      "\" looks like a URL. Beautiful Soup is not an HTTP client. You should probably use an HTTP client like requests to get the document behind the URL, and feed that document to Beautiful Soup.\n",
      "  MarkupResemblesLocatorWarning\n",
      "c:\\users\\10065\\anaconda3\\envs\\py3\\lib\\site-packages\\bs4\\__init__.py:424: MarkupResemblesLocatorWarning: \"https://github.com/todb-r7/metasploit-framework/pull/3\n",
      "\" looks like a URL. Beautiful Soup is not an HTTP client. You should probably use an HTTP client like requests to get the document behind the URL, and feed that document to Beautiful Soup.\n",
      "  MarkupResemblesLocatorWarning\n",
      "c:\\users\\10065\\anaconda3\\envs\\py3\\lib\\site-packages\\bs4\\__init__.py:424: MarkupResemblesLocatorWarning: \"http://xbmc.org\n",
      "\" looks like a URL. Beautiful Soup is not an HTTP client. You should probably use an HTTP client like requests to get the document behind the URL, and feed that document to Beautiful Soup.\n",
      "  MarkupResemblesLocatorWarning\n",
      "c:\\users\\10065\\anaconda3\\envs\\py3\\lib\\site-packages\\bs4\\__init__.py:424: MarkupResemblesLocatorWarning: \"https://issues.scala-lang.org/browse/SI-5940\n",
      "\" looks like a URL. Beautiful Soup is not an HTTP client. You should probably use an HTTP client like requests to get the document behind the URL, and feed that document to Beautiful Soup.\n",
      "  MarkupResemblesLocatorWarning\n",
      "c:\\users\\10065\\anaconda3\\envs\\py3\\lib\\site-packages\\bs4\\__init__.py:424: MarkupResemblesLocatorWarning: \"https://github.com/joomla/joomla-cms/commit/9dab8dc8ab21d6fadc1fab7026c61d56512483dd#commitcomment-3962349\n",
      "\" looks like a URL. Beautiful Soup is not an HTTP client. You should probably use an HTTP client like requests to get the document behind the URL, and feed that document to Beautiful Soup.\n",
      "  MarkupResemblesLocatorWarning\n",
      "c:\\users\\10065\\anaconda3\\envs\\py3\\lib\\site-packages\\bs4\\__init__.py:424: MarkupResemblesLocatorWarning: \"https://github.com/rails/rails/pull/12262\n",
      "\" looks like a URL. Beautiful Soup is not an HTTP client. You should probably use an HTTP client like requests to get the document behind the URL, and feed that document to Beautiful Soup.\n",
      "  MarkupResemblesLocatorWarning\n",
      "c:\\users\\10065\\anaconda3\\envs\\py3\\lib\\site-packages\\bs4\\__init__.py:424: MarkupResemblesLocatorWarning: \"https://github.com/facebook/react/blob/master/src/dom/components/ReactDOMInput.js#L81\n",
      "\" looks like a URL. Beautiful Soup is not an HTTP client. You should probably use an HTTP client like requests to get the document behind the URL, and feed that document to Beautiful Soup.\n",
      "  MarkupResemblesLocatorWarning\n",
      "c:\\users\\10065\\anaconda3\\envs\\py3\\lib\\site-packages\\bs4\\__init__.py:424: MarkupResemblesLocatorWarning: \"https://github.com/densh/scala/commit/7b9896f09f2d8452850059cf286900ce881d2f52#diff-532a778b9b259c18ed28fd43a22e44feR231\n",
      "\" looks like a URL. Beautiful Soup is not an HTTP client. You should probably use an HTTP client like requests to get the document behind the URL, and feed that document to Beautiful Soup.\n",
      "  MarkupResemblesLocatorWarning\n",
      "c:\\users\\10065\\anaconda3\\envs\\py3\\lib\\site-packages\\bs4\\__init__.py:424: MarkupResemblesLocatorWarning: \"https://github.com/densh/scala/commit/7b9896f09f2d8452850059cf286900ce881d2f52#diff-532a778b9b259c18ed28fd43a22e44feL29\n",
      "\" looks like a URL. Beautiful Soup is not an HTTP client. You should probably use an HTTP client like requests to get the document behind the URL, and feed that document to Beautiful Soup.\n",
      "  MarkupResemblesLocatorWarning\n",
      "c:\\users\\10065\\anaconda3\\envs\\py3\\lib\\site-packages\\bs4\\__init__.py:424: MarkupResemblesLocatorWarning: \"http://gruntjs.com/api/grunt.log#grunt.log.writeln-grunt.verbose.writeln\n",
      "\" looks like a URL. Beautiful Soup is not an HTTP client. You should probably use an HTTP client like requests to get the document behind the URL, and feed that document to Beautiful Soup.\n",
      "  MarkupResemblesLocatorWarning\n",
      "c:\\users\\10065\\anaconda3\\envs\\py3\\lib\\site-packages\\bs4\\__init__.py:424: MarkupResemblesLocatorWarning: \"http://finance.yahoo.com/q/op?s=VXX&m=2014-01\n",
      "\" looks like a URL. Beautiful Soup is not an HTTP client. You should probably use an HTTP client like requests to get the document behind the URL, and feed that document to Beautiful Soup.\n",
      "  MarkupResemblesLocatorWarning\n",
      "c:\\users\\10065\\anaconda3\\envs\\py3\\lib\\site-packages\\bs4\\__init__.py:424: MarkupResemblesLocatorWarning: \"http://guides.rubyonrails.org/4_0_release_notes.html\n",
      "\" looks like a URL. Beautiful Soup is not an HTTP client. You should probably use an HTTP client like requests to get the document behind the URL, and feed that document to Beautiful Soup.\n",
      "  MarkupResemblesLocatorWarning\n",
      "c:\\users\\10065\\anaconda3\\envs\\py3\\lib\\site-packages\\bs4\\__init__.py:424: MarkupResemblesLocatorWarning: \"https://github.com/scalamacros/paradise/blob/hooked/plugin/src/main/scala/org/scalalang/macroparadise/typechecker/Namers.scala#L291\n",
      "\" looks like a URL. Beautiful Soup is not an HTTP client. You should probably use an HTTP client like requests to get the document behind the URL, and feed that document to Beautiful Soup.\n",
      "  MarkupResemblesLocatorWarning\n",
      "c:\\users\\10065\\anaconda3\\envs\\py3\\lib\\site-packages\\bs4\\__init__.py:424: MarkupResemblesLocatorWarning: \"https://github.com/rails/rails/pull/13292\n",
      "\" looks like a URL. Beautiful Soup is not an HTTP client. You should probably use an HTTP client like requests to get the document behind the URL, and feed that document to Beautiful Soup.\n",
      "  MarkupResemblesLocatorWarning\n",
      "c:\\users\\10065\\anaconda3\\envs\\py3\\lib\\site-packages\\bs4\\__init__.py:424: MarkupResemblesLocatorWarning: \"https://github.com/symfony/symfony/pull/9906\n",
      "\" looks like a URL. Beautiful Soup is not an HTTP client. You should probably use an HTTP client like requests to get the document behind the URL, and feed that document to Beautiful Soup.\n",
      "  MarkupResemblesLocatorWarning\n",
      "c:\\users\\10065\\anaconda3\\envs\\py3\\lib\\site-packages\\bs4\\__init__.py:424: MarkupResemblesLocatorWarning: \"https://github.com/saltstack/salt/pull/9611\n",
      "\" looks like a URL. Beautiful Soup is not an HTTP client. You should probably use an HTTP client like requests to get the document behind the URL, and feed that document to Beautiful Soup.\n",
      "  MarkupResemblesLocatorWarning\n",
      "c:\\users\\10065\\anaconda3\\envs\\py3\\lib\\site-packages\\bs4\\__init__.py:424: MarkupResemblesLocatorWarning: \"http://book.cakephp.org/3.0/en/appendices/orm-migration.html#validation-no-longer-defined-as-a-property\n",
      "\" looks like a URL. Beautiful Soup is not an HTTP client. You should probably use an HTTP client like requests to get the document behind the URL, and feed that document to Beautiful Soup.\n",
      "  MarkupResemblesLocatorWarning\n",
      "c:\\users\\10065\\anaconda3\\envs\\py3\\lib\\site-packages\\bs4\\__init__.py:424: MarkupResemblesLocatorWarning: \"https://github.com/scala/scala/pull/3468#discussion-diff-9501641R774\n",
      "\" looks like a URL. Beautiful Soup is not an HTTP client. You should probably use an HTTP client like requests to get the document behind the URL, and feed that document to Beautiful Soup.\n",
      "  MarkupResemblesLocatorWarning\n",
      "c:\\users\\10065\\anaconda3\\envs\\py3\\lib\\site-packages\\bs4\\__init__.py:424: MarkupResemblesLocatorWarning: \"https://github.com/rails/rails/pull/14047\n",
      "\" looks like a URL. Beautiful Soup is not an HTTP client. You should probably use an HTTP client like requests to get the document behind the URL, and feed that document to Beautiful Soup.\n",
      "  MarkupResemblesLocatorWarning\n",
      "c:\\users\\10065\\anaconda3\\envs\\py3\\lib\\site-packages\\bs4\\__init__.py:424: MarkupResemblesLocatorWarning: \"https://github.com/akka/akka/commit/1e3ce48a13627edef89b71698c528e37eba07930#diff-5cc6287dbd1c68f0814da300e1a1bda9R48\n",
      "\" looks like a URL. Beautiful Soup is not an HTTP client. You should probably use an HTTP client like requests to get the document behind the URL, and feed that document to Beautiful Soup.\n",
      "  MarkupResemblesLocatorWarning\n",
      "c:\\users\\10065\\anaconda3\\envs\\py3\\lib\\site-packages\\bs4\\__init__.py:424: MarkupResemblesLocatorWarning: \"http://build.opencv.org/builders/precommit_macos/builds/9396\n",
      "\" looks like a URL. Beautiful Soup is not an HTTP client. You should probably use an HTTP client like requests to get the document behind the URL, and feed that document to Beautiful Soup.\n",
      "  MarkupResemblesLocatorWarning\n",
      "c:\\users\\10065\\anaconda3\\envs\\py3\\lib\\site-packages\\bs4\\__init__.py:424: MarkupResemblesLocatorWarning: \"http://privatepaste.com/b3db76ee30\n",
      "\" looks like a URL. Beautiful Soup is not an HTTP client. You should probably use an HTTP client like requests to get the document behind the URL, and feed that document to Beautiful Soup.\n",
      "  MarkupResemblesLocatorWarning\n"
     ]
    },
    {
     "name": "stderr",
     "output_type": "stream",
     "text": [
      "c:\\users\\10065\\anaconda3\\envs\\py3\\lib\\site-packages\\bs4\\__init__.py:424: MarkupResemblesLocatorWarning: \"http://software.intel.com/sites/products/documentation/hpc/ipp/ippi/ippi_ch5/functn_MulC.html?\n",
      "\" looks like a URL. Beautiful Soup is not an HTTP client. You should probably use an HTTP client like requests to get the document behind the URL, and feed that document to Beautiful Soup.\n",
      "  MarkupResemblesLocatorWarning\n",
      "c:\\users\\10065\\anaconda3\\envs\\py3\\lib\\site-packages\\bs4\\__init__.py:424: MarkupResemblesLocatorWarning: \"http://www.php.net/manual/en/function.wincache-ucache-set.php\n",
      "\" looks like a URL. Beautiful Soup is not an HTTP client. You should probably use an HTTP client like requests to get the document behind the URL, and feed that document to Beautiful Soup.\n",
      "  MarkupResemblesLocatorWarning\n",
      "c:\\users\\10065\\anaconda3\\envs\\py3\\lib\\site-packages\\bs4\\__init__.py:424: MarkupResemblesLocatorWarning: \"https://github.com/rapid7/metasploit-framework/pull/3157/files#r11773568\n",
      "\" looks like a URL. Beautiful Soup is not an HTTP client. You should probably use an HTTP client like requests to get the document behind the URL, and feed that document to Beautiful Soup.\n",
      "  MarkupResemblesLocatorWarning\n",
      "c:\\users\\10065\\anaconda3\\envs\\py3\\lib\\site-packages\\bs4\\__init__.py:424: MarkupResemblesLocatorWarning: \"http://www.imdb.com/title/tt0084787/?ref_=nv_sr_1\n",
      "\" looks like a URL. Beautiful Soup is not an HTTP client. You should probably use an HTTP client like requests to get the document behind the URL, and feed that document to Beautiful Soup.\n",
      "  MarkupResemblesLocatorWarning\n",
      "c:\\users\\10065\\anaconda3\\envs\\py3\\lib\\site-packages\\bs4\\__init__.py:424: MarkupResemblesLocatorWarning: \"https://github.com/rapid7/metasploit-framework/pull/3190/files#discussion_r12872030\n",
      "\" looks like a URL. Beautiful Soup is not an HTTP client. You should probably use an HTTP client like requests to get the document behind the URL, and feed that document to Beautiful Soup.\n",
      "  MarkupResemblesLocatorWarning\n",
      "c:\\users\\10065\\anaconda3\\envs\\py3\\lib\\site-packages\\bs4\\__init__.py:424: MarkupResemblesLocatorWarning: \"https://github.com/django/django/blob/master/django/db/models/fields/related.py#L1035\n",
      "\" looks like a URL. Beautiful Soup is not an HTTP client. You should probably use an HTTP client like requests to get the document behind the URL, and feed that document to Beautiful Soup.\n",
      "  MarkupResemblesLocatorWarning\n",
      "c:\\users\\10065\\anaconda3\\envs\\py3\\lib\\site-packages\\bs4\\__init__.py:424: MarkupResemblesLocatorWarning: \"https://github.com/facebook/react/blob/master/src/browser/eventPlugins/AnalyticsEventPluginFactory.js#L183\n",
      "\" looks like a URL. Beautiful Soup is not an HTTP client. You should probably use an HTTP client like requests to get the document behind the URL, and feed that document to Beautiful Soup.\n",
      "  MarkupResemblesLocatorWarning\n",
      "c:\\users\\10065\\anaconda3\\envs\\py3\\lib\\site-packages\\bs4\\__init__.py:424: MarkupResemblesLocatorWarning: \"https://github.com/Sirupsen/logrus\n",
      "\" looks like a URL. Beautiful Soup is not an HTTP client. You should probably use an HTTP client like requests to get the document behind the URL, and feed that document to Beautiful Soup.\n",
      "  MarkupResemblesLocatorWarning\n",
      "c:\\users\\10065\\anaconda3\\envs\\py3\\lib\\site-packages\\bs4\\__init__.py:424: MarkupResemblesLocatorWarning: \"http://arxiv.org/abs/1206.5533\n",
      "\" looks like a URL. Beautiful Soup is not an HTTP client. You should probably use an HTTP client like requests to get the document behind the URL, and feed that document to Beautiful Soup.\n",
      "  MarkupResemblesLocatorWarning\n",
      "c:\\users\\10065\\anaconda3\\envs\\py3\\lib\\site-packages\\bs4\\__init__.py:424: MarkupResemblesLocatorWarning: \"https://github.com/docker/docker/pull/7461/files#diff-2aef7cf7f54fe31bf022d583b6ca4ca6R100\n",
      "\" looks like a URL. Beautiful Soup is not an HTTP client. You should probably use an HTTP client like requests to get the document behind the URL, and feed that document to Beautiful Soup.\n",
      "  MarkupResemblesLocatorWarning\n",
      "c:\\users\\10065\\anaconda3\\envs\\py3\\lib\\site-packages\\bs4\\__init__.py:424: MarkupResemblesLocatorWarning: \"https://github.com/symfony/symfony/blob/master/src/Symfony/Component/Security/Core/Authentication/Token/AbstractToken.php#L73-L79\n",
      "\" looks like a URL. Beautiful Soup is not an HTTP client. You should probably use an HTTP client like requests to get the document behind the URL, and feed that document to Beautiful Soup.\n",
      "  MarkupResemblesLocatorWarning\n",
      "c:\\users\\10065\\anaconda3\\envs\\py3\\lib\\site-packages\\bs4\\__init__.py:424: MarkupResemblesLocatorWarning: \"https://github.com/symfony/symfony/pull/11870#discussion_r17214226\n",
      "\" looks like a URL. Beautiful Soup is not an HTTP client. You should probably use an HTTP client like requests to get the document behind the URL, and feed that document to Beautiful Soup.\n",
      "  MarkupResemblesLocatorWarning\n",
      "c:\\users\\10065\\anaconda3\\envs\\py3\\lib\\site-packages\\bs4\\__init__.py:424: MarkupResemblesLocatorWarning: \"https://github.com/rapid7/metasploit-framework/pull/3752#discussion_r17258388\n",
      "\" looks like a URL. Beautiful Soup is not an HTTP client. You should probably use an HTTP client like requests to get the document behind the URL, and feed that document to Beautiful Soup.\n",
      "  MarkupResemblesLocatorWarning\n",
      "c:\\users\\10065\\anaconda3\\envs\\py3\\lib\\site-packages\\bs4\\__init__.py:424: MarkupResemblesLocatorWarning: \"http://play.golang.org/p/xFWb60kOIM\n",
      "\" looks like a URL. Beautiful Soup is not an HTTP client. You should probably use an HTTP client like requests to get the document behind the URL, and feed that document to Beautiful Soup.\n",
      "  MarkupResemblesLocatorWarning\n",
      "c:\\users\\10065\\anaconda3\\envs\\py3\\lib\\site-packages\\bs4\\__init__.py:424: MarkupResemblesLocatorWarning: \"http://sidekiq.org/\n",
      "\" looks like a URL. Beautiful Soup is not an HTTP client. You should probably use an HTTP client like requests to get the document behind the URL, and feed that document to Beautiful Soup.\n",
      "  MarkupResemblesLocatorWarning\n",
      "c:\\users\\10065\\anaconda3\\envs\\py3\\lib\\site-packages\\bs4\\__init__.py:424: MarkupResemblesLocatorWarning: \"https://github.com/symfony/symfony/pull/10887#discussion_r13795612\n",
      "\" looks like a URL. Beautiful Soup is not an HTTP client. You should probably use an HTTP client like requests to get the document behind the URL, and feed that document to Beautiful Soup.\n",
      "  MarkupResemblesLocatorWarning\n",
      "c:\\users\\10065\\anaconda3\\envs\\py3\\lib\\site-packages\\bs4\\__init__.py:424: MarkupResemblesLocatorWarning: \"https://github.com/symfony/symfony/blob/master/src/Symfony/Bundle/FrameworkBundle/DependencyInjection/FrameworkExtension.php#L638\n",
      "\" looks like a URL. Beautiful Soup is not an HTTP client. You should probably use an HTTP client like requests to get the document behind the URL, and feed that document to Beautiful Soup.\n",
      "  MarkupResemblesLocatorWarning\n",
      "c:\\users\\10065\\anaconda3\\envs\\py3\\lib\\site-packages\\bs4\\__init__.py:424: MarkupResemblesLocatorWarning: \"https://github.com/pydata/pandas/pull/8421\n",
      "\" looks like a URL. Beautiful Soup is not an HTTP client. You should probably use an HTTP client like requests to get the document behind the URL, and feed that document to Beautiful Soup.\n",
      "  MarkupResemblesLocatorWarning\n",
      "c:\\users\\10065\\anaconda3\\envs\\py3\\lib\\site-packages\\bs4\\__init__.py:424: MarkupResemblesLocatorWarning: \"https://github.com/Gamerofthegame/Baystation12/pull/1\n",
      "\" looks like a URL. Beautiful Soup is not an HTTP client. You should probably use an HTTP client like requests to get the document behind the URL, and feed that document to Beautiful Soup.\n",
      "  MarkupResemblesLocatorWarning\n",
      "c:\\users\\10065\\anaconda3\\envs\\py3\\lib\\site-packages\\bs4\\__init__.py:424: MarkupResemblesLocatorWarning: \"https://github.com/pydata/pandas/blob/master/pandas/io/pytables.py#L1291\n",
      "\" looks like a URL. Beautiful Soup is not an HTTP client. You should probably use an HTTP client like requests to get the document behind the URL, and feed that document to Beautiful Soup.\n",
      "  MarkupResemblesLocatorWarning\n",
      "c:\\users\\10065\\anaconda3\\envs\\py3\\lib\\site-packages\\bs4\\__init__.py:424: MarkupResemblesLocatorWarning: \"http://blog.davidchelimsky.net/blog/2012/05/13/spec-smell-explicit-use-of-subject/\n",
      "\" looks like a URL. Beautiful Soup is not an HTTP client. You should probably use an HTTP client like requests to get the document behind the URL, and feed that document to Beautiful Soup.\n",
      "  MarkupResemblesLocatorWarning\n"
     ]
    },
    {
     "data": {
      "text/plain": [
       "0                          spaces after commas thanks :)\\n\n",
       "1        are you sure about cfort? is does not appear e...\n",
       "2        Any reason this check is removed? Should we no...\n",
       "3        Yup - look up  for internal_version (this inli...\n",
       "4                                      does or does not?\\n\n",
       "                               ...                        \n",
       "99995                                             invoke\\n\n",
       "99996                                             invoke\\n\n",
       "99997                                             invoke\\n\n",
       "99998                                    or `localhost`.\\n\n",
       "99999    Why the whitespace difference between no-cache...\n",
       "Name: body, Length: 100000, dtype: object"
      ]
     },
     "execution_count": 4,
     "metadata": {},
     "output_type": "execute_result"
    }
   ],
   "source": [
    "data[\"body\"] = data[\"body\"].apply(cleanHtml)\n",
    "data[\"body\"]"
   ]
  },
  {
   "cell_type": "code",
   "execution_count": 5,
   "metadata": {},
   "outputs": [],
   "source": [
    "# 去除->\n",
    "def preClean(subject):\n",
    "    beau = BeautifulSoup(subject)\n",
    "    newSubject = beau.get_text()\n",
    "    newSubject = newSubject.replace(\"->\",\" \")\n",
    "    \n",
    "    return newSubject"
   ]
  },
  {
   "cell_type": "code",
   "execution_count": 6,
   "metadata": {},
   "outputs": [
    {
     "data": {
      "text/plain": [
       "0                          spaces after commas thanks :)\\n\n",
       "1        are you sure about cfort? is does not appear e...\n",
       "2        Any reason this check is removed? Should we no...\n",
       "3        Yup - look up  for internal_version (this inli...\n",
       "4                                      does or does not?\\n\n",
       "                               ...                        \n",
       "99995                                             invoke\\n\n",
       "99996                                             invoke\\n\n",
       "99997                                             invoke\\n\n",
       "99998                                    or `localhost`.\\n\n",
       "99999    Why the whitespace difference between no-cache...\n",
       "Name: body, Length: 100000, dtype: object"
      ]
     },
     "execution_count": 6,
     "metadata": {},
     "output_type": "execute_result"
    }
   ],
   "source": [
    "data[\"body\"] = data[\"body\"].apply(preClean)\n",
    "data[\"body\"]"
   ]
  },
  {
   "cell_type": "code",
   "execution_count": null,
   "metadata": {},
   "outputs": [],
   "source": []
  },
  {
   "cell_type": "code",
   "execution_count": 7,
   "metadata": {},
   "outputs": [],
   "source": [
    "# # 去除回复信息\n",
    "# # 运行两次，因为一次头上的去不掉\n",
    "# for cot in range(2):\n",
    "#     for item in range(len(data)):\n",
    "#         pattern_reply = re.compile(r'> (.*)\\n')\n",
    "#         temp = \"\"\n",
    "#         if len(pattern_reply.findall(data[\"body\"][item])) > 0:\n",
    "#             temp = pattern_reply.sub(\"\", data[\"body\"][item])\n",
    "#         pattern_reply_time = re.compile(r'On (.*)<\\nreply@reply.github.com>(.*)wrote:')\n",
    "#         if len(pattern_reply_time.findall(temp)) > 0:\n",
    "#             temp = pattern_reply_time.sub(\"\", temp)\n",
    "#         if temp != \"\":\n",
    "#             data[\"body\"][item] = temp\n",
    "# # data[\"body\"]"
   ]
  },
  {
   "cell_type": "code",
   "execution_count": 8,
   "metadata": {},
   "outputs": [
    {
     "name": "stderr",
     "output_type": "stream",
     "text": [
      "c:\\users\\10065\\anaconda3\\envs\\py3\\lib\\site-packages\\ipykernel_launcher.py:31: SettingWithCopyWarning: \n",
      "A value is trying to be set on a copy of a slice from a DataFrame\n",
      "\n",
      "See the caveats in the documentation: http://pandas.pydata.org/pandas-docs/stable/user_guide/indexing.html#returning-a-view-versus-a-copy\n",
      "c:\\users\\10065\\anaconda3\\envs\\py3\\lib\\site-packages\\ipykernel_launcher.py:38: SettingWithCopyWarning: \n",
      "A value is trying to be set on a copy of a slice from a DataFrame\n",
      "\n",
      "See the caveats in the documentation: http://pandas.pydata.org/pandas-docs/stable/user_guide/indexing.html#returning-a-view-versus-a-copy\n",
      "c:\\users\\10065\\anaconda3\\envs\\py3\\lib\\site-packages\\ipykernel_launcher.py:48: SettingWithCopyWarning: \n",
      "A value is trying to be set on a copy of a slice from a DataFrame\n",
      "\n",
      "See the caveats in the documentation: http://pandas.pydata.org/pandas-docs/stable/user_guide/indexing.html#returning-a-view-versus-a-copy\n",
      "c:\\users\\10065\\anaconda3\\envs\\py3\\lib\\site-packages\\ipykernel_launcher.py:16: SettingWithCopyWarning: \n",
      "A value is trying to be set on a copy of a slice from a DataFrame\n",
      "\n",
      "See the caveats in the documentation: http://pandas.pydata.org/pandas-docs/stable/user_guide/indexing.html#returning-a-view-versus-a-copy\n",
      "  app.launch_new_instance()\n",
      "c:\\users\\10065\\anaconda3\\envs\\py3\\lib\\site-packages\\ipykernel_launcher.py:23: SettingWithCopyWarning: \n",
      "A value is trying to be set on a copy of a slice from a DataFrame\n",
      "\n",
      "See the caveats in the documentation: http://pandas.pydata.org/pandas-docs/stable/user_guide/indexing.html#returning-a-view-versus-a-copy\n"
     ]
    }
   ],
   "source": [
    "# 去除回复信息\n",
    "# 运行两次，因为一次头上的去不掉\n",
    "# Version 2: reply格式\n",
    "# 注意head和内容清洗顺序\n",
    "for cot in range(2):\n",
    "    for item in range(len(data)):\n",
    "        \n",
    "        temp = \"\"\n",
    "                \n",
    "#         pattern_reply_time4 = re.compile(r'\\nFrom:([\\s\\S]*)\\nSent:([\\s\\S]*)\\nTo:([\\s\\S]*)\\nCc:([\\s\\S]*)\\nSubject:([\\s\\S]*)\\n')\n",
    "        pattern_reply_time4 = re.compile(r'\\n([\\s\\S]*)From([\\s\\S]*):([\\s\\S]*)([\\s\\S]*)\\n')\n",
    "        if len(pattern_reply_time4.findall(data[\"body\"][item])) > 0:\n",
    "            temp = pattern_reply_time4.sub(\"\", data[\"body\"][item])\n",
    "            \n",
    "        if temp != \"\":\n",
    "            data[\"body\"][item] = temp\n",
    "        \n",
    "        pattern_reply_time5 = re.compile(r'\\n([\\s\\S]*)De([\\s\\S]*):([\\s\\S]*)([\\s\\S]*)\\n')\n",
    "        if len(pattern_reply_time5.findall(data[\"body\"][item])) > 0:\n",
    "            temp = pattern_reply_time5.sub(\"\", data[\"body\"][item])\n",
    "            \n",
    "        if temp != \"\":\n",
    "            data[\"body\"][item] = temp\n",
    "        \n",
    "        \n",
    "        pattern_reply_time3 = re.compile(r'\\n([\\s\\S]*)@reply.github.com([\\s\\S]*)\\n')\n",
    "        if len(pattern_reply_time3.findall(data[\"body\"][item])) > 0:\n",
    "            temp = pattern_reply_time3.sub(\"\", data[\"body\"][item])\n",
    "            \n",
    "        if temp != \"\":\n",
    "            data[\"body\"][item] = temp\n",
    "        \n",
    "        pattern_reply_time = re.compile(r'On ([\\s\\S]*)wrote:')\n",
    "        if len(pattern_reply_time.findall(data[\"body\"][item])) > 0:\n",
    "            temp = pattern_reply_time.sub(\"\", data[\"body\"][item])\n",
    "            \n",
    "        if temp != \"\":\n",
    "            data[\"body\"][item] = temp\n",
    "            \n",
    "        pattern_reply_time2 = re.compile(r'On (.*)<\\nreply@reply.github.com>(.*)wrote:')\n",
    "        \n",
    "        if len(pattern_reply_time2.findall(data[\"body\"][item])) > 0:\n",
    "            temp = pattern_reply_time2.sub(\"\", data[\"body\"][item])\n",
    "#         pattern_reply_time3 = re.compile(r'On (.*)<\\nreply@reply.github.com>(.*)')\n",
    "#         if len(pattern_reply_time.findall(temp)) > 0:\n",
    "#             temp = pattern_reply_time3.sub(\"\", temp)\n",
    "        if temp != \"\":\n",
    "            data[\"body\"][item] = temp\n",
    "            \n",
    "#         pattern_reply = re.compile(r'> (.*)\\n')\n",
    "    \n",
    "#         if len(pattern_reply.findall(data[\"body\"][item])) > 0:\n",
    "#             temp = pattern_reply.sub(\"\", data[\"body\"][item])\n",
    "\n",
    "#         if temp != \"\":\n",
    "#             data[\"body\"][item] = temp\n",
    "# data[\"body\"]"
   ]
  },
  {
   "cell_type": "code",
   "execution_count": 9,
   "metadata": {},
   "outputs": [
    {
     "name": "stdout",
     "output_type": "stream",
     "text": [
      "how about just `autoencoder` or `auto_encoder`?  Except for the buzzword\n",
      "value of the word _sparse_ does it really add much more? The only\n",
      "non-sparse autoencoder I can think of is the bottleneck, _semantic hashing_\n",
      "autoencoder which is specific enough to be called that if we ever implement\n",
      "it. WDYT?\n",
      "\n",
      "\n",
      "\n",
      "> In sklearn/neural_network/sae.py:\n",
      "> \n",
      "> > +class SAE(BaseEstimator, TransformerMixin):\n",
      "> > -    \"\"\"\n",
      "> > -    Sparse Autoencoder (SAE)\n",
      "> >   +\n",
      "> > -    A Sparse Autoencoder with one hidden layer. Parameters are trained using\n",
      "> > -    Limited-Memory  Broyden-Fletcher-Goldfarb-Shanno (L-BFGS)\n",
      "> > -    Parameters\n",
      "> > -    ----------\n",
      "> > -    n_hidden : int\n",
      "> > -        Number of hidden neurons\n",
      "> > -    lr : float, optional\n",
      "> > -        Learning rate to use during learning. It is _highly_ recommended\n",
      "> > -        to tune this hyper-parameter. Possible values are 10**[0., -3.].\n",
      "> > -    beta : float, optional\n",
      "> > -        Weight of sparsity penalty term\n",
      "> > -    sparsityParam : float, optional\n",
      "> \n",
      ">  In sklearn/neural_network/sae.py: > +class SAE(BaseEstimator,\n",
      "> TransformerMixin):\n",
      "> Neither the class name, nor the file, should be called 'SAE'. Acronyms are\n",
      "> hard to follow. I can suggest 'SparseAutoEnc' and sparse_auto_enc.py.\n",
      "> \n",
      "> —\n",
      "> Reply to this email directly or view it on GitHubhttps://github.com/scikit-learn/scikit-learn/pull/2099/files#r5027510\n",
      "> .\n",
      "\n"
     ]
    }
   ],
   "source": [
    "print(data[\"body\"][38845])"
   ]
  },
  {
   "cell_type": "code",
   "execution_count": 10,
   "metadata": {},
   "outputs": [],
   "source": [
    "# # 去除代码，打上代码标签\n",
    "# for item in range(len(data)):\n",
    "#     pattern = re.compile(r'```([\\s\\S]*)```')\n",
    "#     if len(pattern.findall(data[\"body\"][item])) > 0:\n",
    "#         data[\"body\"][item] = pattern.sub(data[\"path\"][item].split('.')[-1].upper() + \"CODE\", data[\"body\"][item])"
   ]
  },
  {
   "cell_type": "code",
   "execution_count": 11,
   "metadata": {},
   "outputs": [
    {
     "name": "stdout",
     "output_type": "stream",
     "text": [
      "I know. The reviews are good opportunity to cleanup whatever is noticed, that's the way we roll all the time.\n"
     ]
    }
   ],
   "source": [
    "print(data[\"body\"][6342])\n",
    "# data[\"body\"]"
   ]
  },
  {
   "cell_type": "code",
   "execution_count": 12,
   "metadata": {},
   "outputs": [
    {
     "name": "stdout",
     "output_type": "stream",
     "text": [
      "alias   ...   alias   service\n",
      "\n",
      "```\n",
      "public function get($id, $invalidBehavior = ContainerInterface::EXCEPTION_ON_INVALID_REFERENCE)\n",
      "{\n",
      "....\n",
      "        if (!$this hasDefinition($id) && isset($this aliases[$id])) {\n",
      "            return $this get($this aliases[$id]);\n",
      "        }\n",
      "....\n",
      "}\n",
      "```\n",
      "\n"
     ]
    }
   ],
   "source": [
    "print(data[\"body\"][101])\n",
    "# data[\"body\"]"
   ]
  },
  {
   "cell_type": "code",
   "execution_count": 13,
   "metadata": {},
   "outputs": [],
   "source": [
    "# 预处理\n",
    "def cleanReview(subject):\n",
    "    beau = BeautifulSoup(subject)\n",
    "    newSubject = beau.get_text()\n",
    "    newSubject = newSubject.replace(\"--\",\" \")\n",
    "    newSubject = newSubject.replace(\"...\",\" \").replace(\"…\",\" \")\n",
    "    newSubject = newSubject.replace(\"\\\\\", \"\").replace(\"\\'\",\"\").replace('/', '').replace('\"', '').replace(',', ' ').replace('.', ' ').replace('?', ' ').replace('!',' ').replace('(', ' ').replace(')', ' ').replace(':',' ')\n",
    "    newSubject = newSubject.strip().split(\" \")\n",
    "    newSubject = [word.lower() for word in newSubject]\n",
    "    # join() 方法用于将序列中的元素以指定的字符连接生成一个新的字符串\n",
    "    newSubject = \" \".join(newSubject)\n",
    "    \n",
    "    return newSubject"
   ]
  },
  {
   "cell_type": "code",
   "execution_count": 14,
   "metadata": {},
   "outputs": [
    {
     "data": {
      "text/plain": [
       "0                               spaces after commas thanks\n",
       "1        are you sure about cfort  is does not appear e...\n",
       "2        any reason this check is removed  should we no...\n",
       "3        yup - look up  for internal_version  this inli...\n",
       "4                                         does or does not\n",
       "                               ...                        \n",
       "99995                                               invoke\n",
       "99996                                               invoke\n",
       "99997                                               invoke\n",
       "99998                                       or `localhost`\n",
       "99999    why the whitespace difference between no-cache...\n",
       "Name: body, Length: 100000, dtype: object"
      ]
     },
     "execution_count": 14,
     "metadata": {},
     "output_type": "execute_result"
    }
   ],
   "source": [
    "data[\"body\"] = data[\"body\"].apply(cleanReview)\n",
    "data[\"body\"]"
   ]
  },
  {
   "cell_type": "code",
   "execution_count": 15,
   "metadata": {},
   "outputs": [
    {
     "name": "stdout",
     "output_type": "stream",
     "text": [
      "i think that it is perfectly valid to only implement a decoder  this would\n"
     ]
    }
   ],
   "source": [
    "print(data[\"body\"][668])"
   ]
  },
  {
   "cell_type": "code",
   "execution_count": 16,
   "metadata": {},
   "outputs": [],
   "source": [
    "# data[\"body\"][2]"
   ]
  },
  {
   "cell_type": "code",
   "execution_count": 17,
   "metadata": {},
   "outputs": [
    {
     "name": "stderr",
     "output_type": "stream",
     "text": [
      "c:\\users\\10065\\anaconda3\\envs\\py3\\lib\\site-packages\\ipykernel_launcher.py:5: SettingWithCopyWarning: \n",
      "A value is trying to be set on a copy of a slice from a DataFrame\n",
      "\n",
      "See the caveats in the documentation: http://pandas.pydata.org/pandas-docs/stable/user_guide/indexing.html#returning-a-view-versus-a-copy\n",
      "  \"\"\"\n"
     ]
    }
   ],
   "source": [
    "# 去除代码，打上代码标签\n",
    "for item in range(len(data)):\n",
    "    pattern = re.compile(r'```([\\s\\S]*)```')\n",
    "    if len(pattern.findall(data[\"body\"][item])) > 0:\n",
    "        data[\"body\"][item] = pattern.sub(data[\"path\"][item].split('.')[-1].upper() + \"CODE\", data[\"body\"][item])"
   ]
  },
  {
   "cell_type": "code",
   "execution_count": 18,
   "metadata": {},
   "outputs": [
    {
     "name": "stderr",
     "output_type": "stream",
     "text": [
      "c:\\users\\10065\\anaconda3\\envs\\py3\\lib\\site-packages\\ipykernel_launcher.py:5: SettingWithCopyWarning: \n",
      "A value is trying to be set on a copy of a slice from a DataFrame\n",
      "\n",
      "See the caveats in the documentation: http://pandas.pydata.org/pandas-docs/stable/user_guide/indexing.html#returning-a-view-versus-a-copy\n",
      "  \"\"\"\n"
     ]
    }
   ],
   "source": [
    "# 去除`包围的变量名\n",
    "for item in range(len(data)):\n",
    "    pattern = re.compile(r'`([\\s\\S]*)`')\n",
    "    if len(pattern.findall(data[\"body\"][item])) > 0:\n",
    "        data[\"body\"][item] = pattern.sub(\"VAR\", data[\"body\"][item])"
   ]
  },
  {
   "cell_type": "code",
   "execution_count": 19,
   "metadata": {},
   "outputs": [
    {
     "data": {
      "text/plain": [
       "'alias       alias   service\\n\\nPHPCODE'"
      ]
     },
     "execution_count": 19,
     "metadata": {},
     "output_type": "execute_result"
    }
   ],
   "source": [
    "data[\"body\"][101]"
   ]
  },
  {
   "cell_type": "code",
   "execution_count": 20,
   "metadata": {},
   "outputs": [],
   "source": [
    "# data[\"path\"][10].split('.')[-1].upper()"
   ]
  },
  {
   "cell_type": "code",
   "execution_count": 21,
   "metadata": {},
   "outputs": [
    {
     "name": "stderr",
     "output_type": "stream",
     "text": [
      "c:\\users\\10065\\anaconda3\\envs\\py3\\lib\\site-packages\\ipykernel_launcher.py:10: SettingWithCopyWarning: \n",
      "A value is trying to be set on a copy of a slice from a DataFrame\n",
      "\n",
      "See the caveats in the documentation: http://pandas.pydata.org/pandas-docs/stable/user_guide/indexing.html#returning-a-view-versus-a-copy\n",
      "  # Remove the CWD from sys.path while we load stuff.\n"
     ]
    }
   ],
   "source": [
    "# 去除>\n",
    "pattern_reply = re.compile(r'>(.*)\\n')\n",
    "\n",
    "for item in range(len(data)):\n",
    "    temp = \"\"\n",
    "    if len(pattern_reply.findall(data[\"body\"][item])) > 0:\n",
    "        temp = pattern_reply.sub(\"\", data[\"body\"][item])\n",
    "\n",
    "    if temp != \"\":\n",
    "        data[\"body\"][item] = temp"
   ]
  },
  {
   "cell_type": "code",
   "execution_count": 22,
   "metadata": {},
   "outputs": [
    {
     "name": "stdout",
     "output_type": "stream",
     "text": [
      "how about just VAR   except for the buzzword\n",
      "value of the word _sparse_ does it really add much more  the only\n",
      "non-sparse autoencoder i can think of is the bottleneck  _semantic hashing_\n",
      "autoencoder which is specific enough to be called that if we ever implement\n",
      "it  wdyt \n",
      "\n",
      "\n",
      "\n",
      ">\n"
     ]
    }
   ],
   "source": [
    "print(data[\"body\"][38845])"
   ]
  },
  {
   "cell_type": "code",
   "execution_count": 23,
   "metadata": {},
   "outputs": [],
   "source": [
    "# 去除\\n\\r\n",
    "def cleanToOneLine(subject):\n",
    "    beau = BeautifulSoup(subject)\n",
    "    newSubject = beau.get_text()\n",
    "    newSubject = newSubject.replace('\\n',' ').replace('\\r',' ')\n",
    "    \n",
    "    return newSubject"
   ]
  },
  {
   "cell_type": "code",
   "execution_count": null,
   "metadata": {},
   "outputs": [],
   "source": [
    "# 去除停用词\n",
    "from nltk.corpus import stopwords\n",
    "from nltk.tokenize import sent_tokenize,word_tokenize\n",
    "#英文停止词，set()集合函数消除重复项\n",
    "    list_stopWords=list(set(stopwords.words('english')))\n",
    "    example_text=\"Five score years ago, a great American, in whose symbolic shadow we stand today, signed the Emancipation Proclamation. This momentous decree came as a great beacon light of hope to millions of Negro slaves who had been seared in the flames of withering injustice. It came as a joyous daybreak to end the long night of bad captivity.\"\n",
    "    #分句\n",
    "    list_sentences=sent_tokenize(example_text)\n",
    "    #分词\n",
    "    list_words=word_tokenize(example_text)\n",
    "    #过滤停止词\n",
    "    filtered_words=[w for w in list_words if not w in list_stopWords]"
   ]
  },
  {
   "cell_type": "code",
   "execution_count": 24,
   "metadata": {},
   "outputs": [],
   "source": [
    "data[\"body\"] = data[\"body\"].apply(cleanToOneLine)"
   ]
  },
  {
   "cell_type": "code",
   "execution_count": 25,
   "metadata": {},
   "outputs": [
    {
     "name": "stdout",
     "output_type": "stream",
     "text": [
      "100  :  this is what the history of the commit on the file is for  we dont want to have 5 loc and 50 comment lines when a line is changed several times\n",
      "101  :  alias       alias   service  PHPCODE\n",
      "102  :  thats typically a method that should now be private ;\n",
      "103  :  check isset   for both query and fields - getting undefined index\n",
      "104  :  ha  ok  so im going in the wrong direction  i should be able to accomplish some of the same goals by using only the VAR is important\n",
      "105  :  ah yes  youre most definitely right  if im allowed to stick with using the VAR  ill make sure to include this\n",
      "106  :  i fail to see how your code is equivalent to the old one\n",
      "107  :  you are right  it is not equivalent  there is no need to build and url  which will certainly be converted back to a filename at some point    i forgot to mention that this has been validated on both win & linux\n",
      "108  :  why are you using a dash everywhere   this is not correct here\n",
      "109  :  it should be VAR  not an hardcoded 5\n",
      "110  :  this does not describe exactly the error message as the error specifies VAR\n",
      "111  :  same here  the value should not be hardcoded\n",
      "112  :  courte would be better imho\n",
      "113  :  it should be gros and petit imo\n",
      "114  :  ill let you find a better translation if you like\n",
      "115  :  the typo still occurs here  i guess the plural was not matched by a search&replace\n",
      "116  :  well the problem is that datetime also doesnt exist in english  it should be date in english too i guess  even if its not perfectly accurate i wouldnt know a more accurate word for it\n",
      "117  :  eh why\n",
      "118  :  do we ever build without sdl  seems better to drop the check until we drop sdl\n",
      "119  :  i really dont like the **arm** keyword  this is nothing arm related it is ios related\n",
      "120  :  why\n",
      "121  :  all of this should be factored out somewhere  probably into the powermanager  ie it should be doing the exit   command\n",
      "122  :  unrelated change\n",
      "123  :  this is wrong  tv_usec is defined as a long int on linux  is this different on ios\n",
      "124  :  _linux check is not required  file is only used on linuxosx\n",
      "125  :  but i suppose there are similar checks all over the file  those really should be dropped\n",
      "126  :  weird reindent  so cant see what changed\n",
      "127  :  cant you create a fake sdl h file in a sdl subdirectory that is inluded in include dirs  then all the ifdef stuff for headerers would have gone away\n",
      "128  :  eeeek   i would much much rather have seen you replace all those occurances with the memcpy  but okey it was less changes this way\n",
      "129  :  hmm   seems like the getdisplaylinkfps   function should have been fixed up for the non arm case here instead\n",
      "130  :  fixed c  in function ‘flac__fixed_compute_best_predictor_wide’  fixed c 290  internal compiler error  bus error please submit a full bug report  with preprocessed source if appropriate  see url http developer apple combugreporter for instructions  {standard input} unknown undefined local symbol l_memcpy$stub make[5]  *** [fixed lo] error 1  gcc-4 2 does not like it    this particular section of code is never compiled on osxlinuxwin as the mmx asm routine is used instead\n",
      "131  :  id rather keep it in so we know wherewhat sdl touched  m_framecount is used with sdl mutex later in the code\n",
      "132  :  you can choose **arm** or **atmel**  take your pick  there is no ios compiler flag\n",
      "133  :  to reduce hammering system calls to see how much memory is being used  the whole memory tracking code is an xboxism that need to get yanked but thats a task for another day\n",
      "134  :  xbmc code flow should traverse back up to xbmc cpp and exit clean like a good app should and not be calling exit   deep in code  this needed a refactor and is a task for another day and is on my hit list\n",
      "135  :  reverted\n",
      "136  :  reverted\n",
      "137  :  i could but that would make the next step messy which is to replace the program wide usage of sdl mutexconds under osxlinuxwin with these  we have talked about removing the depends on sdl  its a large task  pulling code from sdl guarantees we have the same behavior and then we can refactor it to suit\n",
      "138  :  noted  getdisplaylinkfps and friends dont exist in winsystemosx and i was defering the refactor of displaylink handling program wide until ios came into trunk\n",
      "139  :  the message should also mention adding the bundle in the mapping configuration as this is the most common missing point according to the questions on #symfony\n",
      "140  :  there is no such thing as _linux either   that is something we add in the configure script  what says that the only ever apple product running on arm is an ios device  im just saying it should be a configure define for __ios__ or something\n",
      "141  :  well even if we drop sdl wed still need the m_framecount variable  it would just be locked with pthread instead for example\n",
      "142  :  ugly  replace the local_abs   with a static inline function in both cases could work just as well and be ifdef free  i bet the issue is some side effect of what is passed into the define somewhere in that code\n",
      "143  :  well the free mem display is rather pointless  a display for used xbmc memory would be nicer  and perhaps  if possible  how much memory is in physical memory and how much is swapped out  non the less  its only rendered if enabled in settings so why do you need to ifdef it out  just dont enable it\n",
      "144  :  aslong as you plan on getting rid of it then fine  but factoring it out to a function would have reduced code   secondly  why do you ifdef out the powermanager calls  would be better to ifdef out the code in those functions instead if you dont want them to do anything\n",
      "145  :  cant you add our own include then which the ifdef for real sdl and our fake one is in so we dont need the ifdef in each file\n",
      "146  :  this is really performance sensitive  do we need the flexibility of having an extra method here   a bit less critical is the sortlisteners   call above  but if we could avoid it we should\n",
      "147  :  http trac xbmc orgticket11324 created to deal with this program wide\n",
      "148  :  agreed its ugly but keeps the original code intact  libflac is targeted to move to osxios-depends as an external lib  it is now only configured and build for osxios  once there  i can do a sed replace or patch at build time and i will revert these changes in liblibflac\n",
      "149  :  reverted\n",
      "150  :  noted  handing of powermanager are on the hit list\n",
      "151  :  yes  thats one way to handle this but it would touch more code than is touched now  id really like to defer global sdl changes until after trunk merge  that way i can address sdl mutexcond as an individual item rather than mixed in with ios merge  i can also get the assistance of a win dev to bring in sdl mutexcond code for windows  yes this is ugly but yes it will get cleaned up as sdl must die\n",
      "152  :  thats weird  if i added this at some point  it was probably to fix something\n",
      "153  :  may be it is just a copy paste from some other loader   in [the xliff file loader] https github comsymfonysymfonyblobmastersrcsymfonycomponenttranslationloaderxlifffileloader php#l57  you definitely need to build an url in order to find & replace\n",
      "154  :  this code is sqlite specific and will depend on the database you use\n",
      "155  :  can you fix the coding standard   http symfony comdoc2 0contributingcodestandards html\n",
      "156  :  would have been nice to also put me as an author as i actually wrote most of that code ;\n",
      "157  :  made this method abstract and moved its contents to mysql specific class\n",
      "158  :  yes indeed  sorry\n",
      "159  :  this is should not be executable  644   755   should be reverted to 644\n",
      "160  :  } catch {\n",
      "161  :  fabien@symfony com\n",
      "162  :  thats still the sqlite version here  no\n",
      "163  :  no space around VAR\n",
      "164  :  the sqlite version is this  $criteria[] = url like  url escape ;  everything else should work for all pdo dbs\n",
      "165  :  you still havent commented or fixed this\n",
      "166  :  as long as you intend to do it\n",
      "167  :  just to be abit annoying   why introduce more sdl stuff     isnt pthread native on osx\n",
      "168  :  or if ccriticalsection can be used in objective c   why not use that\n",
      "169  :  cosmetics reverted\n",
      "170  :  in a platform port  you generally dont want to make drastic changes in platform code or risk chasing your tail trying to figure out some quirk  elimination of sdl mutexconds is not the focus of this pull but the fact that sdl does not exist for ios requires some concessions  using a ccritcalsection is an option  as are many others  a mutex is simple  light weight and straight forward and in xbmc  mutex is handled by sdl so we followed convention and used the sdl api\n",
      "171  :  what i was going for is that its a integral part of xbmc and the convention in xbmc for mutex sections is to use ccriticalsection which would have avoided the need to replace it with something else later   and it would have been less code to use   anyway it was just a nit\n",
      "172  :  ok not for all pdo databases  but it works for mysql and sqlite\n",
      "173  :  maybe it would make sense to use an array of files here  just for forwards compatibility      file           lessphp\n",
      "174  :  you should use VAR instead of doing the test\n",
      "175  :  you should add the body of the message somewhere\n",
      "176  :  you need to add the license header\n",
      "177  :  you need to fix this email as it changed  it is now VAR\n",
      "178  :  is the wrapper really needed\n",
      "179  :  well at least it is working like this  do not hesitate to propose an other solution  sorry but i have already spent too much time on the profiler to investigate more\n",
      "180  :  you can use this instead   PHPCODE\n",
      "181  :  this wont work if an application uses a different class name for their kernel\n",
      "182  :  why do you need this change\n",
      "183  :  i think it should read  returns the template name\n",
      "184  :  what about calling it VAR instead\n",
      "185  :  why is it commented   it should either be uncommented  either be removed\n",
      "186  :  why are you doing the test twice intead of using the same one\n",
      "187  :  is it really necessary to have VAR\n",
      "188  :  for same result on windows as on unix  see https github comsymfonysymfonyblobmastersrcsymfonybundleframeworkbundletemplatingtemplatenameparser php#l91\n",
      "189  :  right  corrected\n",
      "190  :  in fact we have nesting li  so it is correct\n",
      "191  :  look at the block you are rendering  it will only contains one VAR so i dont see the point of nesting the list if the child list has only one item  so yes the markup is valid but it is verbaose and not semantic as you use a uesless nested list\n",
      "192  :  there should also be some quotes around the class name\n",
      "193  :  ok  this will be corrected in the next push     by the way   im working on removing every inline css  takes times but it will be great\n",
      "194  :  not sure it is worth it for the toolbar  loading an external stylesheet for it does not seem necessary  thus this produces invalid html as a VAR tag is not allowed in the body but only in the head\n",
      "195  :  script tag can be move to header  with js  if you want to your tool bar to be w3c compliant\n",
      "196  :  changing the toolbar from a compliant version to a non-compliant version does not seem an improvement to me   and the toolbar is currently self-contained  all images are encoded in the html instead of using external files so i dont see why the css should now be put in an external file\n",
      "197  :  we should separate rendering from content  inline css is not very goos and makes it difficult to customize  about compliance   i dont think it will be lost\n",
      "198  :  as you said yourself  you need to use some js to make the toolbar compliant because the generated html is not   btw  i dont see the need of customizing the toolbar style  this is only a development tool  you dont need to style it according to the css of your site\n",
      "199  :  instead of this method we should have a registry on this class  so that you dont need to sub-class the builder for adding new nodes    PHPCODE\n"
     ]
    }
   ],
   "source": [
    "for i in range(100,200):\n",
    "    print(i,\" : \",data[\"body\"][i])"
   ]
  },
  {
   "cell_type": "code",
   "execution_count": 26,
   "metadata": {},
   "outputs": [
    {
     "name": "stdout",
     "output_type": "stream",
     "text": [
      "alias       alias   service  PHPCODE\n"
     ]
    }
   ],
   "source": [
    "print(data[\"body\"][101])"
   ]
  },
  {
   "cell_type": "code",
   "execution_count": 27,
   "metadata": {},
   "outputs": [
    {
     "name": "stdout",
     "output_type": "stream",
     "text": [
      "44419  :  lets support cpp version only  we dont want to care about outdated c style api  - logisticregression  the same for the params of lr\n",
      "44420  :  logisticregressiontrainparams looks better than logisticregression_trainparams\n",
      "44542  :  sorry  sure  ill try to be more specific   cv prefix is c style of opencv  cv   namespace is c++  so rename cvlr   logisticregression  cvlr_trainparams   logisticregressiontrainparams and place them in cv   namespace  use cv  termcriteria instead of cvtermcriteria  line 1999    in the implementation below there are cvmat  cvreadintbyname     and other similar c functions   btw there is one example of c++ ml model in opencv  see cv  em  its inherited from cv  algorithm  but i think we may not inherit from cv  algoritm because this class is changing now  for coming opencv 3 0   we also should not inherit from cvstatmodel and should replace current readwrite methods by the same api like cv  algorithm has   virtual void write filestorage& fs  const; virtual void read const filenode& fn ;  if i should give more details  please ask\n",
      "44559  :  i will make the renaming as you suggested  also  i think using filestorage is more easier that older cvfilestorage  i can change it    apart from that  which class do you want me to inherit logisticregression class from then  you say algorithm is changing  do i need to look into the trunk algorithm code and model my code appropriately\n",
      "44871  :  is logisticregressionparams good  its shorter\n",
      "50868  :  i think you should add params in this constructor  logisticregression  const logisticregressionparams& params=logisticregressionparams    ;\n",
      "52228  :  i would add  not all models benefit from optimized blas and lapack implementations  for instance models based on  randomized  decision trees typically do not rely on blas calls in their inner loops  so do models implemented in third party c++ library  like linearsvc  logisticregression from liblinear and svc  svr from libsvm    on the other hand linear model implemented with a blas dgemm call  via VAR arguments to models\n",
      "83357  :  if svc  why not logisticregression\n",
      "91913  :  it seems that in such cases youll always get zero coefs  so maybe the error message can specify this   ill-posed l1_min_c calculation  there is no value of c for which a l1-regularized linearsvc or logisticregression will have non-zero coefficients   what do you think\n",
      "93349  :  i think the logisticregression intercept_scaling description is out of date\n",
      "93581  :  i much prefer this less-nested structure  but it still takes substantial effort for the reader to realise that the only differences between this call and the one for multinomial are VAR in the multinomial case   this is also true of the logisticregressioncv implementation\n"
     ]
    }
   ],
   "source": [
    "for i in range(len(data)):\n",
    "    if(data[\"body\"][i].find('logisticregression') >= 0):\n",
    "        print(i,\" : \",data[\"body\"][i])"
   ]
  },
  {
   "cell_type": "code",
   "execution_count": 28,
   "metadata": {},
   "outputs": [
    {
     "name": "stderr",
     "output_type": "stream",
     "text": [
      "c:\\users\\10065\\anaconda3\\envs\\py3\\lib\\site-packages\\ipykernel_launcher.py:2: FutureWarning: The signature of `Series.to_csv` was aligned to that of `DataFrame.to_csv`, and argument 'header' will change its default value from False to True: please pass an explicit value to suppress this warning.\n",
      "  \n"
     ]
    }
   ],
   "source": [
    "newDf = data[\"body\"]\n",
    "newDf.to_csv(\"cleaned.txt\",index=False)"
   ]
  },
  {
   "cell_type": "code",
   "execution_count": 29,
   "metadata": {},
   "outputs": [
    {
     "name": "stderr",
     "output_type": "stream",
     "text": [
      "2021-01-12 15:40:38,836 : INFO : collecting all words and their counts\n",
      "2021-01-12 15:40:38,844 : INFO : PROGRESS: at sentence #0, processed 0 words, keeping 0 word types\n",
      "2021-01-12 15:40:38,896 : INFO : PROGRESS: at sentence #10000, processed 161261 words, keeping 11124 word types\n",
      "2021-01-12 15:40:38,952 : INFO : PROGRESS: at sentence #20000, processed 335897 words, keeping 18083 word types\n",
      "2021-01-12 15:40:39,008 : INFO : PROGRESS: at sentence #30000, processed 502445 words, keeping 23493 word types\n",
      "2021-01-12 15:40:39,064 : INFO : PROGRESS: at sentence #40000, processed 676062 words, keeping 28670 word types\n",
      "2021-01-12 15:40:39,120 : INFO : PROGRESS: at sentence #50000, processed 853359 words, keeping 33490 word types\n",
      "2021-01-12 15:40:39,178 : INFO : PROGRESS: at sentence #60000, processed 1026842 words, keeping 37771 word types\n",
      "2021-01-12 15:40:39,234 : INFO : PROGRESS: at sentence #70000, processed 1192122 words, keeping 41645 word types\n",
      "2021-01-12 15:40:39,289 : INFO : PROGRESS: at sentence #80000, processed 1355454 words, keeping 45356 word types\n",
      "2021-01-12 15:40:39,344 : INFO : PROGRESS: at sentence #90000, processed 1517979 words, keeping 48946 word types\n",
      "2021-01-12 15:40:39,399 : INFO : collected 52504 word types from a corpus of 1686376 raw words and 100000 sentences\n",
      "2021-01-12 15:40:39,399 : INFO : Loading a fresh vocabulary\n",
      "2021-01-12 15:40:39,429 : INFO : effective_min_count=5 retains 9672 unique words (18% of original 52504, drops 42832)\n",
      "2021-01-12 15:40:39,430 : INFO : effective_min_count=5 leaves 1626259 word corpus (96% of original 1686376, drops 60117)\n",
      "2021-01-12 15:40:39,457 : INFO : deleting the raw counts dictionary of 52504 items\n",
      "2021-01-12 15:40:39,459 : INFO : sample=0.001 downsamples 54 most-common words\n",
      "2021-01-12 15:40:39,460 : INFO : downsampling leaves estimated 1187476 word corpus (73.0% of prior 1626259)\n",
      "2021-01-12 15:40:39,487 : INFO : estimated required memory for 9672 words and 200 dimensions: 20311200 bytes\n",
      "2021-01-12 15:40:39,488 : INFO : resetting layer weights\n",
      "2021-01-12 15:40:41,130 : INFO : training model with 3 workers on 9672 vocabulary and 200 features, using sg=1 hs=0 sample=0.001 negative=5 window=5\n",
      "2021-01-12 15:40:42,136 : INFO : EPOCH 1 - PROGRESS: at 35.63% examples, 420414 words/s, in_qsize 6, out_qsize 0\n",
      "2021-01-12 15:40:43,151 : INFO : EPOCH 1 - PROGRESS: at 69.13% examples, 411544 words/s, in_qsize 6, out_qsize 0\n",
      "2021-01-12 15:40:43,915 : INFO : worker thread finished; awaiting finish of 2 more threads\n",
      "2021-01-12 15:40:43,918 : INFO : worker thread finished; awaiting finish of 1 more threads\n",
      "2021-01-12 15:40:43,945 : INFO : worker thread finished; awaiting finish of 0 more threads\n",
      "2021-01-12 15:40:43,946 : INFO : EPOCH - 1 : training on 1686376 raw words (1187475 effective words) took 2.8s, 422046 effective words/s\n",
      "2021-01-12 15:40:44,959 : INFO : EPOCH 2 - PROGRESS: at 34.57% examples, 403342 words/s, in_qsize 5, out_qsize 0\n",
      "2021-01-12 15:40:45,989 : INFO : EPOCH 2 - PROGRESS: at 71.66% examples, 420912 words/s, in_qsize 5, out_qsize 0\n",
      "2021-01-12 15:40:46,698 : INFO : worker thread finished; awaiting finish of 2 more threads\n",
      "2021-01-12 15:40:46,734 : INFO : worker thread finished; awaiting finish of 1 more threads\n",
      "2021-01-12 15:40:46,735 : INFO : worker thread finished; awaiting finish of 0 more threads\n",
      "2021-01-12 15:40:46,736 : INFO : EPOCH - 2 : training on 1686376 raw words (1187054 effective words) took 2.8s, 426132 effective words/s\n",
      "2021-01-12 15:40:47,750 : INFO : EPOCH 3 - PROGRESS: at 36.23% examples, 423093 words/s, in_qsize 6, out_qsize 0\n",
      "2021-01-12 15:40:48,775 : INFO : EPOCH 3 - PROGRESS: at 73.58% examples, 431705 words/s, in_qsize 5, out_qsize 0\n",
      "2021-01-12 15:40:49,443 : INFO : worker thread finished; awaiting finish of 2 more threads\n",
      "2021-01-12 15:40:49,457 : INFO : worker thread finished; awaiting finish of 1 more threads\n",
      "2021-01-12 15:40:49,463 : INFO : worker thread finished; awaiting finish of 0 more threads\n",
      "2021-01-12 15:40:49,463 : INFO : EPOCH - 3 : training on 1686376 raw words (1187231 effective words) took 2.7s, 435600 effective words/s\n",
      "2021-01-12 15:40:50,473 : INFO : EPOCH 4 - PROGRESS: at 36.75% examples, 432452 words/s, in_qsize 6, out_qsize 0\n",
      "2021-01-12 15:40:51,478 : INFO : EPOCH 4 - PROGRESS: at 71.66% examples, 426822 words/s, in_qsize 6, out_qsize 0\n",
      "2021-01-12 15:40:52,186 : INFO : worker thread finished; awaiting finish of 2 more threads\n",
      "2021-01-12 15:40:52,210 : INFO : worker thread finished; awaiting finish of 1 more threads\n",
      "2021-01-12 15:40:52,221 : INFO : worker thread finished; awaiting finish of 0 more threads\n",
      "2021-01-12 15:40:52,222 : INFO : EPOCH - 4 : training on 1686376 raw words (1187532 effective words) took 2.8s, 430828 effective words/s\n",
      "2021-01-12 15:40:53,226 : INFO : EPOCH 5 - PROGRESS: at 35.06% examples, 413533 words/s, in_qsize 5, out_qsize 0\n",
      "2021-01-12 15:40:54,233 : INFO : EPOCH 5 - PROGRESS: at 69.73% examples, 417016 words/s, in_qsize 5, out_qsize 0\n",
      "2021-01-12 15:40:55,001 : INFO : worker thread finished; awaiting finish of 2 more threads\n",
      "2021-01-12 15:40:55,028 : INFO : worker thread finished; awaiting finish of 1 more threads\n",
      "2021-01-12 15:40:55,043 : INFO : worker thread finished; awaiting finish of 0 more threads\n",
      "2021-01-12 15:40:55,044 : INFO : EPOCH - 5 : training on 1686376 raw words (1187436 effective words) took 2.8s, 421246 effective words/s\n",
      "2021-01-12 15:40:56,052 : INFO : EPOCH 6 - PROGRESS: at 36.23% examples, 426373 words/s, in_qsize 5, out_qsize 0\n",
      "2021-01-12 15:40:57,075 : INFO : EPOCH 6 - PROGRESS: at 72.92% examples, 430190 words/s, in_qsize 6, out_qsize 0\n",
      "2021-01-12 15:40:57,745 : INFO : worker thread finished; awaiting finish of 2 more threads\n",
      "2021-01-12 15:40:57,777 : INFO : worker thread finished; awaiting finish of 1 more threads\n",
      "2021-01-12 15:40:57,780 : INFO : worker thread finished; awaiting finish of 0 more threads\n",
      "2021-01-12 15:40:57,781 : INFO : EPOCH - 6 : training on 1686376 raw words (1187524 effective words) took 2.7s, 434231 effective words/s\n",
      "2021-01-12 15:40:58,784 : INFO : EPOCH 7 - PROGRESS: at 35.63% examples, 420883 words/s, in_qsize 6, out_qsize 0\n",
      "2021-01-12 15:40:59,794 : INFO : EPOCH 7 - PROGRESS: at 71.00% examples, 423545 words/s, in_qsize 5, out_qsize 0\n",
      "2021-01-12 15:41:00,550 : INFO : worker thread finished; awaiting finish of 2 more threads\n",
      "2021-01-12 15:41:00,560 : INFO : worker thread finished; awaiting finish of 1 more threads\n",
      "2021-01-12 15:41:00,592 : INFO : worker thread finished; awaiting finish of 0 more threads\n",
      "2021-01-12 15:41:00,593 : INFO : EPOCH - 7 : training on 1686376 raw words (1187424 effective words) took 2.8s, 422585 effective words/s\n",
      "2021-01-12 15:41:01,601 : INFO : EPOCH 8 - PROGRESS: at 36.23% examples, 426377 words/s, in_qsize 5, out_qsize 0\n",
      "2021-01-12 15:41:02,615 : INFO : EPOCH 8 - PROGRESS: at 72.92% examples, 431939 words/s, in_qsize 6, out_qsize 0\n",
      "2021-01-12 15:41:03,314 : INFO : worker thread finished; awaiting finish of 2 more threads\n",
      "2021-01-12 15:41:03,316 : INFO : worker thread finished; awaiting finish of 1 more threads\n",
      "2021-01-12 15:41:03,322 : INFO : worker thread finished; awaiting finish of 0 more threads\n",
      "2021-01-12 15:41:03,322 : INFO : EPOCH - 8 : training on 1686376 raw words (1187257 effective words) took 2.7s, 435399 effective words/s\n",
      "2021-01-12 15:41:03,323 : INFO : training on a 13491008 raw words (9498933 effective words) took 22.2s, 428035 effective words/s\n",
      "2021-01-12 15:41:03,324 : INFO : storing 9672x200 projection weights into ./word2Vec.bin\n",
      "2021-01-12 15:41:03,374 : INFO : loading projection weights from word2Vec.bin\n",
      "2021-01-12 15:41:03,460 : INFO : loaded (9672, 200) matrix from word2Vec.bin\n"
     ]
    }
   ],
   "source": [
    "# 设置输出日志\n",
    "logging.basicConfig(format='%(asctime)s : %(levelname)s : %(message)s', level=logging.INFO)\n",
    "\n",
    "# 直接用gemsim提供的API去读取txt文件，读取文件的API有LineSentence 和 Text8Corpus, PathLineSentences等。\n",
    "sentences = word2vec.LineSentence(\"cleaned.txt\")\n",
    "\n",
    "# 训练模型，词向量的长度设置为200， 迭代次数为8，采用skip-gram模型，模型保存为bin格式\n",
    "model = gensim.models.Word2Vec(sentences, size=200, sg=1, iter=8)  \n",
    "model.wv.save_word2vec_format(\"./word2Vec\" + \".bin\", binary=True) \n",
    "\n",
    "# 加载bin格式的模型\n",
    "wordVec = gensim.models.KeyedVectors.load_word2vec_format(\"word2Vec.bin\", binary=True)"
   ]
  },
  {
   "cell_type": "code",
   "execution_count": 30,
   "metadata": {},
   "outputs": [
    {
     "name": "stderr",
     "output_type": "stream",
     "text": [
      "2021-01-12 15:41:03,476 : INFO : loading projection weights from word2Vec.bin\n",
      "2021-01-12 15:41:03,526 : INFO : loaded (9672, 200) matrix from word2Vec.bin\n"
     ]
    },
    {
     "data": {
      "text/plain": [
       "array([ 0.21260378,  0.09926204, -0.42197123,  0.07171463, -0.11635962,\n",
       "       -0.1587817 , -0.22813904, -0.40599933,  0.10550229, -0.02989995,\n",
       "        0.29662153,  0.07556977, -0.31014094,  0.1351672 ,  0.5043207 ,\n",
       "        0.1870861 ,  0.02517163, -0.21897951, -0.01298134,  0.03930113,\n",
       "       -0.27110675, -0.14548273,  0.19351892,  0.607968  , -0.38757592,\n",
       "       -0.07881724,  0.07387956,  0.32218164, -0.02288199,  0.18185848,\n",
       "       -0.15622565, -0.23542303,  0.01394012, -0.01565598, -0.02710978,\n",
       "       -0.1132633 ,  0.23187968,  0.02718084, -0.49805453,  0.15765472,\n",
       "       -0.13148794, -0.07154568,  0.0538125 ,  0.18598424,  0.1474826 ,\n",
       "        0.25623986,  0.17495002, -0.28342375,  0.13444032,  0.2659585 ,\n",
       "        0.06289336, -0.12813604,  0.24312884, -0.03483532,  0.08115482,\n",
       "        0.32567513,  0.10803639, -0.55382454, -0.32812965, -0.06610359,\n",
       "       -0.46951994, -0.05389235, -0.16940878,  0.19074863,  0.34751576,\n",
       "        0.21043657, -0.11064307,  0.11307571, -0.08642122,  0.08406585,\n",
       "        0.10501087,  0.21415448, -0.5134779 ,  0.15906395, -0.27605814,\n",
       "        0.28314325,  0.11998134,  0.2818676 , -0.21117707, -0.23513992,\n",
       "       -0.24326272, -0.33434206, -0.37547943,  0.01543934,  0.29833302,\n",
       "       -0.32277706,  0.27487862, -0.16605695, -0.1574319 , -0.06105485,\n",
       "        0.4383572 , -0.22324194,  0.06971722, -0.39995027, -0.08245989,\n",
       "        0.29164967, -0.3203319 ,  0.01458709, -0.02055908, -0.09485788,\n",
       "        0.00972104,  0.1274174 ,  0.05777667,  0.22816479,  0.23803371,\n",
       "        0.11796911,  0.06404862,  0.08231085, -0.12149092, -0.3807822 ,\n",
       "        0.05102311,  0.20704746, -0.13257751, -0.03014239,  0.1435013 ,\n",
       "        0.1021381 ,  0.15448837,  0.1136371 ,  0.21246736, -0.4023598 ,\n",
       "       -0.17385305, -0.08238295,  0.03691482, -0.27747306,  0.03960908,\n",
       "       -0.28815085, -0.20551993,  0.03969143,  0.2425092 ,  0.4653766 ,\n",
       "       -0.29374933, -0.24369694,  0.16181822, -0.19017236,  0.22522227,\n",
       "       -0.04216388,  0.07365685, -0.18174535,  0.3005736 ,  0.06716851,\n",
       "        0.13385536, -0.2042718 ,  0.17694148,  0.02760782, -0.1724499 ,\n",
       "       -0.5368299 , -0.123021  , -0.6216831 ,  0.23382808,  0.43952438,\n",
       "        0.17364204,  0.02061644, -0.23651716, -0.07355825,  0.02846847,\n",
       "       -0.08364963, -0.2830159 ,  0.4870234 , -0.14460616,  0.3599565 ,\n",
       "       -0.00294265,  0.12891692, -0.06929954,  0.3068833 , -0.22963947,\n",
       "       -0.1814385 ,  0.22973101, -0.15839894, -0.07214458, -0.22094727,\n",
       "        0.21693888, -0.18091144, -0.17649251, -0.09350971,  0.06459432,\n",
       "        0.28651106, -0.11078992,  0.09771243, -0.37970927, -0.21289118,\n",
       "        0.46193257, -0.28884134, -0.23565727,  0.00064092,  0.2503172 ,\n",
       "        0.22302477, -0.15938313,  0.00938715, -0.06450245,  0.00621659,\n",
       "       -0.22292127, -0.3483561 , -0.0312822 ,  0.13561022, -0.25049844,\n",
       "        0.08770957,  0.5547242 ,  0.21182504, -0.09362941,  0.23092526],\n",
       "      dtype=float32)"
      ]
     },
     "execution_count": 30,
     "metadata": {},
     "output_type": "execute_result"
    }
   ],
   "source": [
    "wordVec = gensim.models.KeyedVectors.load_word2vec_format(\"word2Vec.bin\", binary=True)\n",
    "wordVec['-']"
   ]
  },
  {
   "cell_type": "code",
   "execution_count": 40,
   "metadata": {},
   "outputs": [
    {
     "data": {
      "text/plain": [
       "[('supervisor', 0.7129275798797607),\n",
       " ('actors', 0.6895064115524292),\n",
       " ('actorref', 0.6859934329986572),\n",
       " ('actorsystem', 0.6632527112960815),\n",
       " ('restarted', 0.6331169009208679),\n",
       " ('endpoint', 0.6227724552154541),\n",
       " ('terminates', 0.6139692068099976),\n",
       " ('actorcell', 0.6136939525604248),\n",
       " ('uid', 0.6107230186462402),\n",
       " ('coordinator', 0.6084626913070679)]"
      ]
     },
     "execution_count": 40,
     "metadata": {},
     "output_type": "execute_result"
    }
   ],
   "source": [
    "# 和某个单词关系最近的10个单向量\n",
    "wordVec.most_similar(['actor'])"
   ]
  },
  {
   "cell_type": "code",
   "execution_count": 34,
   "metadata": {},
   "outputs": [],
   "source": [
    "# 计算句子向量\n",
    "sentences = []\n",
    "a = np.zeros(200, dtype=np.float32)\n",
    "for s in data[\"body\"]:\n",
    "    for word in s.split(' '):\n",
    "        try:  \n",
    "            wordv = wordVec[word]\n",
    "        except:\n",
    "            wordv = np.zeros(200, dtype=np.float32)\n",
    "        a = a + wordv\n",
    "        a = a * [0.5]\n",
    "    sentences.append(a)\n",
    "    a = np.zeros(200, dtype=np.float32)\n",
    "# print(sentences)"
   ]
  },
  {
   "cell_type": "code",
   "execution_count": 35,
   "metadata": {},
   "outputs": [
    {
     "data": {
      "text/plain": [
       "array([ 0.02774239,  0.16575766, -0.31319333,  0.17946357,  0.02485174,\n",
       "       -0.16075351, -0.06282411, -0.09537544,  0.01586559, -0.00509875,\n",
       "       -0.27884047,  0.32087677, -0.01700382,  0.16575594, -0.19591502,\n",
       "        0.40138265,  0.2075412 ,  0.12191047,  0.15799911, -0.04422868,\n",
       "       -0.32020175,  0.01320735,  0.25614699, -0.24586379, -0.49924347,\n",
       "       -0.41935074,  0.08263077,  0.05711561, -0.15952523, -0.06189486,\n",
       "       -0.13357191,  0.33550413, -0.0649945 ,  0.14911127, -0.14400562,\n",
       "       -0.5227334 ,  0.28935875, -0.28232474, -0.0823628 ,  0.09847927,\n",
       "       -0.23040136, -0.11467727, -0.10678585, -0.12252446,  0.03523265,\n",
       "        0.03419405,  0.13339036, -0.20008489,  0.26864238, -0.1545718 ,\n",
       "        0.12447099, -0.19348758,  0.26327304, -0.31910456,  0.04575398,\n",
       "       -0.29995403,  0.23620575,  0.24094101, -0.06088914, -0.12883687,\n",
       "       -0.45787011, -0.37160794, -0.06510864,  0.11160031, -0.04689757,\n",
       "        0.10600913,  0.10576841,  0.43407408, -0.01146152,  0.08367008,\n",
       "        0.1078774 ,  0.35758997, -0.024569  , -0.00773647,  0.16225322,\n",
       "        0.17924934,  0.02316664,  0.11756915,  0.15563773,  0.35953154,\n",
       "       -0.02997796, -0.12025854,  0.08014901,  0.2735264 ,  0.05703161,\n",
       "       -0.30748421,  0.23234294,  0.09252093, -0.35719156, -0.22467941,\n",
       "       -0.08540162,  0.14450088,  0.55977637, -0.2513162 ,  0.04168205,\n",
       "       -0.034858  , -0.04169217, -0.0924112 , -0.14029029, -0.41888518,\n",
       "       -0.2624181 , -0.17625349,  0.06832213,  0.02855137, -0.03028752,\n",
       "       -0.01584256,  0.1397728 , -0.18163572,  0.28019989, -0.03265041,\n",
       "       -0.00402576,  0.323853  , -0.15927371,  0.08130403, -0.25538136,\n",
       "        0.03997745,  0.03421418,  0.02159923,  0.33912791, -0.10375579,\n",
       "        0.19185723,  0.00813596, -0.24103809, -0.28429903,  0.05024933,\n",
       "       -0.05125282,  0.12626002,  0.30155116,  0.06985227,  0.09343555,\n",
       "       -0.12588267,  0.13410527, -0.06293182,  0.06789229, -0.14988359,\n",
       "       -0.03328331,  0.05620373, -0.00740877,  0.08083853, -0.09399654,\n",
       "       -0.31083441, -0.2199815 , -0.11616062, -0.15065842,  0.33510319,\n",
       "       -0.23244886, -0.0388949 ,  0.27358663, -0.10009019,  0.26858484,\n",
       "        0.05363579,  0.02704504, -0.34146863, -0.15177434, -0.09354035,\n",
       "       -0.3970585 ,  0.07776118,  0.19824622, -0.02753837, -0.04639773,\n",
       "       -0.15772614, -0.12712198,  0.01294659, -0.09263363, -0.0243853 ,\n",
       "        0.12524311, -0.20541245, -0.10624464,  0.01073438,  0.25585624,\n",
       "        0.03877833,  0.19763341,  0.3706749 ,  0.20842299, -0.16645625,\n",
       "       -0.0617678 ,  0.00518076,  0.0870797 ,  0.25980609, -0.24494438,\n",
       "        0.03525065,  0.17097586, -0.13074846, -0.17185512,  0.34676507,\n",
       "       -0.15160513,  0.40997832,  0.10209153,  0.16106324,  0.04032954,\n",
       "       -0.0527045 , -0.09825798,  0.27394914,  0.01579691, -0.11909816,\n",
       "        0.05044699,  0.21084424,  0.13750484, -0.06632773, -0.17421054])"
      ]
     },
     "execution_count": 35,
     "metadata": {},
     "output_type": "execute_result"
    }
   ],
   "source": [
    "sentences[0]"
   ]
  },
  {
   "cell_type": "code",
   "execution_count": 36,
   "metadata": {},
   "outputs": [],
   "source": [
    "np.save(\"sentences\",sentences)"
   ]
  },
  {
   "cell_type": "code",
   "execution_count": 37,
   "metadata": {},
   "outputs": [
    {
     "data": {
      "text/plain": [
       "array([ 0.02774239,  0.16575766, -0.31319333,  0.17946357,  0.02485174,\n",
       "       -0.16075351, -0.06282411, -0.09537544,  0.01586559, -0.00509875,\n",
       "       -0.27884047,  0.32087677, -0.01700382,  0.16575594, -0.19591502,\n",
       "        0.40138265,  0.2075412 ,  0.12191047,  0.15799911, -0.04422868,\n",
       "       -0.32020175,  0.01320735,  0.25614699, -0.24586379, -0.49924347,\n",
       "       -0.41935074,  0.08263077,  0.05711561, -0.15952523, -0.06189486,\n",
       "       -0.13357191,  0.33550413, -0.0649945 ,  0.14911127, -0.14400562,\n",
       "       -0.5227334 ,  0.28935875, -0.28232474, -0.0823628 ,  0.09847927,\n",
       "       -0.23040136, -0.11467727, -0.10678585, -0.12252446,  0.03523265,\n",
       "        0.03419405,  0.13339036, -0.20008489,  0.26864238, -0.1545718 ,\n",
       "        0.12447099, -0.19348758,  0.26327304, -0.31910456,  0.04575398,\n",
       "       -0.29995403,  0.23620575,  0.24094101, -0.06088914, -0.12883687,\n",
       "       -0.45787011, -0.37160794, -0.06510864,  0.11160031, -0.04689757,\n",
       "        0.10600913,  0.10576841,  0.43407408, -0.01146152,  0.08367008,\n",
       "        0.1078774 ,  0.35758997, -0.024569  , -0.00773647,  0.16225322,\n",
       "        0.17924934,  0.02316664,  0.11756915,  0.15563773,  0.35953154,\n",
       "       -0.02997796, -0.12025854,  0.08014901,  0.2735264 ,  0.05703161,\n",
       "       -0.30748421,  0.23234294,  0.09252093, -0.35719156, -0.22467941,\n",
       "       -0.08540162,  0.14450088,  0.55977637, -0.2513162 ,  0.04168205,\n",
       "       -0.034858  , -0.04169217, -0.0924112 , -0.14029029, -0.41888518,\n",
       "       -0.2624181 , -0.17625349,  0.06832213,  0.02855137, -0.03028752,\n",
       "       -0.01584256,  0.1397728 , -0.18163572,  0.28019989, -0.03265041,\n",
       "       -0.00402576,  0.323853  , -0.15927371,  0.08130403, -0.25538136,\n",
       "        0.03997745,  0.03421418,  0.02159923,  0.33912791, -0.10375579,\n",
       "        0.19185723,  0.00813596, -0.24103809, -0.28429903,  0.05024933,\n",
       "       -0.05125282,  0.12626002,  0.30155116,  0.06985227,  0.09343555,\n",
       "       -0.12588267,  0.13410527, -0.06293182,  0.06789229, -0.14988359,\n",
       "       -0.03328331,  0.05620373, -0.00740877,  0.08083853, -0.09399654,\n",
       "       -0.31083441, -0.2199815 , -0.11616062, -0.15065842,  0.33510319,\n",
       "       -0.23244886, -0.0388949 ,  0.27358663, -0.10009019,  0.26858484,\n",
       "        0.05363579,  0.02704504, -0.34146863, -0.15177434, -0.09354035,\n",
       "       -0.3970585 ,  0.07776118,  0.19824622, -0.02753837, -0.04639773,\n",
       "       -0.15772614, -0.12712198,  0.01294659, -0.09263363, -0.0243853 ,\n",
       "        0.12524311, -0.20541245, -0.10624464,  0.01073438,  0.25585624,\n",
       "        0.03877833,  0.19763341,  0.3706749 ,  0.20842299, -0.16645625,\n",
       "       -0.0617678 ,  0.00518076,  0.0870797 ,  0.25980609, -0.24494438,\n",
       "        0.03525065,  0.17097586, -0.13074846, -0.17185512,  0.34676507,\n",
       "       -0.15160513,  0.40997832,  0.10209153,  0.16106324,  0.04032954,\n",
       "       -0.0527045 , -0.09825798,  0.27394914,  0.01579691, -0.11909816,\n",
       "        0.05044699,  0.21084424,  0.13750484, -0.06632773, -0.17421054])"
      ]
     },
     "execution_count": 37,
     "metadata": {},
     "output_type": "execute_result"
    }
   ],
   "source": [
    "sentences = np.load(\"sentences.npy\")\n",
    "sentences[0]"
   ]
  },
  {
   "cell_type": "code",
   "execution_count": 39,
   "metadata": {},
   "outputs": [],
   "source": [
    "data.to_csv('data_cleaned.csv')"
   ]
  },
  {
   "cell_type": "code",
   "execution_count": null,
   "metadata": {},
   "outputs": [],
   "source": []
  }
 ],
 "metadata": {
  "kernelspec": {
   "display_name": "Python 3",
   "language": "python",
   "name": "python3"
  },
  "language_info": {
   "codemirror_mode": {
    "name": "ipython",
    "version": 3
   },
   "file_extension": ".py",
   "mimetype": "text/x-python",
   "name": "python",
   "nbconvert_exporter": "python",
   "pygments_lexer": "ipython3",
   "version": "3.6.12"
  }
 },
 "nbformat": 4,
 "nbformat_minor": 4
}
