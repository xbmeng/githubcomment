{
 "cells": [
  {
   "cell_type": "code",
   "execution_count": null,
   "metadata": {},
   "outputs": [],
   "source": [
    "import pandas as pd\n",
    "from bs4 import BeautifulSoup"
   ]
  },
  {
   "cell_type": "code",
   "execution_count": null,
   "metadata": {},
   "outputs": [],
   "source": [
    "data = pd.read_csv('reviewComment.csv', delimiter=',')\n",
    "data"
   ]
  },
  {
   "cell_type": "code",
   "execution_count": null,
   "metadata": {},
   "outputs": [],
   "source": [
    "# 预处理\n",
    "def cleanReview(subject):\n",
    "    beau = BeautifulSoup(subject)\n",
    "    newSubject = beau.get_text()\n",
    "    newSubject = newSubject.replace('>','').replace(\"->\",\" \").replace('`',' ')\n",
    "    newSubject = newSubject.replace(\"...\",\" \").replace(\"```\",\" \")\n",
    "    newSubject = newSubject.replace(\"\\\\\", \"\").replace(\"\\'\",\"\").replace('/', '').replace('\"', '').replace(',', ' ').replace('.', ' ').replace('?', ' ').replace('!',' ').replace('(', ' ').replace(')', ' ').replace(':',' ').replace('\\n',' ').replace('\\r',' ')\n",
    "    newSubject = newSubject.strip().split(\" \")\n",
    "    newSubject = [word.lower() for word in newSubject]\n",
    "    # join() 方法用于将序列中的元素以指定的字符连接生成一个新的字符串\n",
    "    newSubject = \" \".join(newSubject)\n",
    "    \n",
    "    return newSubject"
   ]
  },
  {
   "cell_type": "code",
   "execution_count": null,
   "metadata": {},
   "outputs": [],
   "source": [
    "data[\"body\"] = data[\"body\"].apply(cleanReview)\n",
    "data"
   ]
  }
 ],
 "metadata": {
  "kernelspec": {
   "display_name": "Python 3",
   "language": "python",
   "name": "python3"
  },
  "language_info": {
   "codemirror_mode": {
    "name": "ipython",
    "version": 3
   },
   "file_extension": ".py",
   "mimetype": "text/x-python",
   "name": "python",
   "nbconvert_exporter": "python",
   "pygments_lexer": "ipython3",
   "version": "3.6.12"
  }
 },
 "nbformat": 4,
 "nbformat_minor": 4
}
